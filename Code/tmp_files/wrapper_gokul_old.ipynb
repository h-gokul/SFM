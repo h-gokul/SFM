{
 "cells": [
  {
   "cell_type": "code",
   "execution_count": 14,
   "metadata": {},
   "outputs": [],
   "source": [
    "import numpy as np\n",
    "import cv2\n",
    "from EstimateFundamentalMatrix import *\n",
    "from GetInliersRANSAC import *\n",
    "from EssentialMatrixFromFundamentalMatrix import *\n",
    "from ExtractCameraPose import *\n",
    "from LinearTriangulation import *\n",
    "from DisambiguateCameraPose  import *\n",
    "from PnPRansac import *\n",
    "from NonLinearPnP import *\n",
    "# from PnPRansac import *\n",
    "\n",
    "from Utils.ImageUtils import *\n",
    "from Utils.DataLoader import *\n",
    "from Utils.MiscUtils import *\n",
    "from matplotlib import pyplot as plt\n",
    "import scipy.optimize as optimize\n",
    "\n",
    "K = np.array([[568.996140852, 0, 643.21055941],[0, 568.988362396, 477.982801038],[0, 0, 1]]).reshape(3,3)"
   ]
  },
  {
   "cell_type": "code",
   "execution_count": 15,
   "metadata": {},
   "outputs": [],
   "source": [
    "def project3DPoints(K, R, C, X, image, points):\n",
    "    I = np.identity(3)\n",
    "    P = np.dot(K, np.dot(R, np.hstack((I, -C.reshape(3,1)))))\n",
    "    if X.shape[1] != 4:\n",
    "        X = homo(X)\n",
    "    x = np.dot(P, X.T)\n",
    "    # x01 = np.dot(P1, X01.T)\n",
    "\n",
    "    x = x/x[2,:]\n",
    "\n",
    "    xi = x[0, :].T\n",
    "    yi = x[1, :].T\n",
    "    im = image.copy()\n",
    "    for i in range(points.shape[0]):\n",
    "\n",
    "        x1, y1 = xi[i], yi[i]\n",
    "        x2, y2 = points[i, 0], points[i, 1]\n",
    "        cv2.circle(im, (int(x1), int(y1)), 3, (255,0,0), -1)\n",
    "        cv2.circle(im, (int(x2), int(y2)), 3, (0,255,0), -1)\n",
    "\n",
    "    cv2.imshow(\"im\", im)\n",
    "    cv2.waitKey() \n",
    "    cv2.destroyAllWindows()"
   ]
  },
  {
   "cell_type": "code",
   "execution_count": 16,
   "metadata": {},
   "outputs": [],
   "source": [
    "def ProjectionMatrix(R,C,K):\n",
    "    C = np.reshape(C, (3, 1))        \n",
    "    I = np.identity(3)\n",
    "    P = np.dot(K, np.dot(R, np.hstack((I, -C))))\n",
    "    return P\n",
    "\n",
    "def NonLinearTriangulation(K, pts1, pts2, x3D, R1, C1, R2, C2):\n",
    "    \n",
    "    P1 = ProjectionMatrix(R1,C1,K) \n",
    "    P2 = ProjectionMatrix(R2,C2,K)\n",
    "    # pts1, pts2, x3D = pts1, pts2, x3D\n",
    "    \n",
    "    if pts1.shape[0] != pts2.shape[0] != x3D.shape[0]:\n",
    "        raise 'Check point dimensions - level nlt'\n",
    "\n",
    "    x3D_ = []\n",
    "    for i in range(len(x3D)):\n",
    "        optimized_params = optimize.least_squares(fun=ReprojectionLoss, x0=x3D[i], method=\"trf\", args=[pts1[i], pts2[i], P1, P2])\n",
    "        X1 = optimized_params.x\n",
    "        x3D_.append(X1)\n",
    "        # x3D_.append(X1[:3])\n",
    "    return np.array(x3D_)\n",
    "\n",
    "def ReprojectionLoss(X, pts1, pts2, P1, P2):\n",
    "    \n",
    "    # X = homo(X.reshape(1,-1)).reshape(-1,1) # make X it a column of homogenous vector\n",
    "    \n",
    "    p1_1T, p1_2T, p1_3T = P1 # rows of P1\n",
    "    p1_1T, p1_2T, p1_3T = p1_1T.reshape(1,-1), p1_2T.reshape(1,-1),p1_3T.reshape(1,-1)\n",
    "\n",
    "    p2_1T, p2_2T, p2_3T = P2 # rows of P2\n",
    "    p2_1T, p2_2T, p2_3T = p2_1T.reshape(1,-1), p2_2T.reshape(1,-1), p2_3T.reshape(1,-1)\n",
    "\n",
    "    ## reprojection error for reference camera points - j = 1\n",
    "    u1,v1 = pts1[0], pts1[1]\n",
    "    u1_proj = np.divide(p1_1T.dot(X) , p1_3T.dot(X))\n",
    "    v1_proj =  np.divide(p1_2T.dot(X) , p1_3T.dot(X))\n",
    "    E1= np.square(v1 - v1_proj) + np.square(u1 - u1_proj)\n",
    "\n",
    "    \n",
    "    ## reprojection error for second camera points - j = 2    \n",
    "    u2,v2 = pts2[0], pts2[1]\n",
    "    u2_proj = np.divide(p2_1T.dot(X) , p2_3T.dot(X))\n",
    "    v2_proj =  np.divide(p2_2T.dot(X) , p2_3T.dot(X))    \n",
    "    E2= np.square(v2 - v2_proj) + np.square(u2 - u2_proj)\n",
    "    \n",
    "    error = E1 + E2\n",
    "    return error.squeeze()\n",
    "\n",
    "\n",
    "def meanReprojectionError(x3D, pts1, pts2, R1, C1, R2, C2, K ):    \n",
    "    Error = []\n",
    "    for pt1, pt2, X in zip(pts1, pts2, x3D):\n",
    "        e1,e2 = ReprojectionError(X, pt1, pt2, R1, C1, R2, C2, K )\n",
    "        Error.append(e1+e2)\n",
    "        \n",
    "    return np.mean(Error)\n",
    "\n",
    "def ReprojectionError(X, pt1, pt2, R1, C1, R2, C2, K ):\n",
    "    \n",
    "    P1 = ProjectionMatrix(R1,C1,K) \n",
    "    P2 = ProjectionMatrix(R2,C2,K)\n",
    "\n",
    "    # X = homo(X.reshape(1,-1)).reshape(-1,1) # make X it a column of homogenous vector\n",
    "    \n",
    "    p1_1T, p1_2T, p1_3T = P1 # rows of P1\n",
    "    p1_1T, p1_2T, p1_3T = p1_1T.reshape(1,-1), p1_2T.reshape(1,-1),p1_3T.reshape(1,-1)\n",
    "\n",
    "    p2_1T, p2_2T, p2_3T = P2 # rows of P2\n",
    "    p2_1T, p2_2T, p2_3T = p2_1T.reshape(1,-1), p2_2T.reshape(1,-1), p2_3T.reshape(1,-1)\n",
    "\n",
    "    ## reprojection error for reference camera points - j = 1\n",
    "    u1,v1 = pt1[0], pt1[1]\n",
    "    u1_proj = np.divide(p1_1T.dot(X) , p1_3T.dot(X))\n",
    "    v1_proj =  np.divide(p1_2T.dot(X) , p1_3T.dot(X))\n",
    "    E1= np.square(v1 - v1_proj) + np.square(u1 - u1_proj)\n",
    "    \n",
    "    ## reprojection error for second camera points - j = 2    \n",
    "    u2,v2 = pt2[0], pt2[1]\n",
    "    u2_proj = np.divide(p2_1T.dot(X) , p2_3T.dot(X))\n",
    "    v2_proj =  np.divide(p2_2T.dot(X) , p2_3T.dot(X))\n",
    "    \n",
    "    E2= np.square(v2 - v2_proj) + np.square(u2 - u2_proj)\n",
    "    \n",
    "    return E1, E2\n",
    "\n",
    "def projectPts(R, C, x3D, K):\n",
    "    I  = np.identity(3)\n",
    "    P2 = np.dot(K, np.dot(R, np.hstack((I, -C.reshape(3,1)))))\n",
    "    x3D_4 = homo(x3D)\n",
    "    x_proj = np.dot(P2, x3D_4.T)\n",
    "    x_proj = (x_proj/x_proj[2,:]).T\n",
    "    return x_proj\n",
    "\n",
    "def homo(pts):\n",
    "    return np.hstack((pts, np.ones((pts.shape[0], 1))))\n",
    "\n"
   ]
  },
  {
   "cell_type": "code",
   "execution_count": 17,
   "metadata": {},
   "outputs": [],
   "source": [
    "def showMatches(image_1, image_2, pts1, pts2, color, file_name):\n",
    "#     file_name =  None\n",
    "    # image_1 = img_1\n",
    "    # image_2 = img_2\n",
    "\n",
    "    image_1, image_2 = makeImageSizeSame([image_1, image_2])\n",
    "    concat = np.concatenate((image_1, image_2), axis = 1)\n",
    "\n",
    "    if pts1 is not None:\n",
    "        corners_1_x = pts1[:,0].copy().astype(int)\n",
    "        corners_1_y = pts1[:,1].copy().astype(int)\n",
    "        corners_2_x = pts2[:,0].copy().astype(int)\n",
    "        corners_2_y = pts2[:,1].copy().astype(int)\n",
    "        corners_2_x += image_1.shape[1]\n",
    "\n",
    "        for i in range(corners_1_x.shape[0]):\n",
    "            cv2.line(concat, (corners_1_x[i], corners_1_y[i]), (corners_2_x[i] ,corners_2_y[i]), color, 1)\n",
    "    cv2.imshow(file_name, concat)\n",
    "    cv2.waitKey() \n",
    "    if file_name is not None:    \n",
    "        cv2.imwrite(file_name, concat)\n",
    "    cv2.destroyAllWindows()\n",
    "    return concat\n",
    "def showAllMatches(images, feature_x, feature_y, feature_flag, total_images):\n",
    "    for i in range(0, total_images-1):\n",
    "        for j in range(i+1, total_images):\n",
    "            idx = np.where(feature_flag[:,i] & feature_flag[:,j])\n",
    "            pts1 = np.hstack((feature_x[idx, i].reshape((-1, 1)), feature_y[idx, i].reshape((-1, 1))))\n",
    "            pts2 = np.hstack((feature_x[idx, j].reshape((-1, 1)), feature_y[idx, j].reshape((-1, 1))))\n",
    "            filename = '../Results/' + str(i) + str(j) + \".png\"\n",
    "            concat = showMatches(images[i], images[j], pts1, pts2, (0,0,255), filename)\n",
    "############################################################################################################            \n",
    "def showMatches_filtered(image_1, image_2, pts1, pts2, color1, pts1_filt, pts2_filt, color2, file_name):\n",
    "    image_1, image_2 = makeImageSizeSame([image_1, image_2])\n",
    "    concat = np.concatenate((image_1, image_2), axis = 1)\n",
    "\n",
    "    if pts1 is not None:\n",
    "        corners_1_x = pts1[:,0].copy().astype(int)\n",
    "        corners_1_y = pts1[:,1].copy().astype(int)\n",
    "        corners_2_x = pts2[:,0].copy().astype(int)\n",
    "        corners_2_y = pts2[:,1].copy().astype(int)\n",
    "        corners_2_x += image_1.shape[1]\n",
    "\n",
    "        for i in range(corners_1_x.shape[0]):\n",
    "            cv2.line(concat, (corners_1_x[i], corners_1_y[i]), (corners_2_x[i] ,corners_2_y[i]), color1, 1)\n",
    "\n",
    "    if pts1_filt is not None:\n",
    "        corners_1_x = pts1_filt[:,0].copy().astype(int)\n",
    "        corners_1_y = pts1_filt[:,1].copy().astype(int)\n",
    "        corners_2_x = pts2_filt[:,0].copy().astype(int)\n",
    "        corners_2_y = pts2_filt[:,1].copy().astype(int)\n",
    "        corners_2_x += image_1.shape[1]\n",
    "\n",
    "        for i in range(corners_1_x.shape[0]):\n",
    "            cv2.line(concat, (corners_1_x[i], corners_1_y[i]), (corners_2_x[i] ,corners_2_y[i]), color2, 1)\n",
    "    \n",
    "    \n",
    "    cv2.imshow(file_name, concat)\n",
    "    cv2.waitKey() \n",
    "    if file_name is not None:    \n",
    "        cv2.imwrite(file_name, concat)\n",
    "    cv2.destroyAllWindows()\n",
    "\n",
    "\n",
    "def showFilteredMatches(images, feature_x, feature_y, filtered_feature_flag, feature_flag, total_images):\n",
    "    for i in range(0, total_images-1):\n",
    "        for j in range(i+1, total_images):\n",
    "                        \n",
    "            idx = np.where(feature_flag[:,i] & feature_flag[:,j])\n",
    "            pts1 = np.hstack((feature_x[idx, i].reshape((-1, 1)), feature_y[idx, i].reshape((-1, 1))))\n",
    "            pts2 = np.hstack((feature_x[idx, j].reshape((-1, 1)), feature_y[idx, j].reshape((-1, 1))))\n",
    "\n",
    "            idx = np.where(filtered_feature_flag[:,i] & filtered_feature_flag[:,j])\n",
    "            pts1_filt = np.hstack((feature_x[idx, i].reshape((-1, 1)), feature_y[idx, i].reshape((-1, 1))))\n",
    "            pts2_filt = np.hstack((feature_x[idx, j].reshape((-1, 1)), feature_y[idx, j].reshape((-1, 1))))\n",
    "            \n",
    "            filename = '../Results/filtered/' + str(i) + str(j) + \".png\"\n",
    "            showMatches_filtered(images[i], images[j], pts1, pts2,(0,0,255), pts1_filt, pts2_filt, (0,255,0), filename)\n",
    "\n",
    "            \n",
    "############################################################################################################            "
   ]
  },
  {
   "cell_type": "code",
   "execution_count": 18,
   "metadata": {},
   "outputs": [],
   "source": [
    "def errorF(pts1, pts2, F): \n",
    "    \"\"\"\n",
    "    check the epipolar constraint\n",
    "    \"\"\"\n",
    "    x1,x2 = pts1, pts2\n",
    "    x1tmp=np.array([x1[0], x1[1], 1])\n",
    "    x2tmp=np.array([x2[0], x2[1], 1]).T\n",
    "\n",
    "    error = np.dot(x2tmp, np.dot(F, x1tmp))\n",
    "    \n",
    "    return np.abs(error)\n",
    "\n",
    "def getInliers(pts1, pts2, idx):\n",
    "    n_iterations = 2000\n",
    "    error_thresh = 0.002\n",
    "    inliers_thresh = 0\n",
    "    chosen_indices = []\n",
    "    chosen_f = None\n",
    "\n",
    "    for i in range(0, n_iterations):\n",
    "  \n",
    "        #select 8 points randomly\n",
    "        n_rows = pts1.shape[0]\n",
    "        random_indices = np.random.choice(n_rows, size=8)\n",
    "        pts1_8 = pts1[random_indices, :] \n",
    "        pts2_8 = pts2[random_indices, :] \n",
    "        f_8 = EstimateFundamentalMatrix(pts1_8, pts2_8)\n",
    "        # f_8, _ = cv2.findFundamentalMat(np.int32(features_8[:, 3:5]), np.int32(features_8[:, 5:7]),cv2.FM_LMEDS)\n",
    "        indices = []\n",
    "        if f_8 is not None:\n",
    "            for j in range(n_rows):\n",
    "\n",
    "                error = errorF(pts1[j, :], pts2[j, :], f_8)\n",
    "                \n",
    "                if error < error_thresh:\n",
    "                    indices.append(idx[j])\n",
    "\n",
    "        if len(indices) > inliers_thresh:\n",
    "            inliers_thresh = len(indices)\n",
    "            chosen_indices = indices\n",
    "            chosen_f = f_8\n",
    "\n",
    "    return chosen_f, chosen_indices"
   ]
  },
  {
   "cell_type": "code",
   "execution_count": 19,
   "metadata": {},
   "outputs": [],
   "source": [
    "def EstimateFundamentalMatrix(pts1, pts2):\n",
    "    normalised = True\n",
    "\n",
    "    x1,x2 = pts1, pts2\n",
    "\n",
    "    if x1.shape[0] > 7:\n",
    "        if normalised == True:\n",
    "            x1_norm, T1 = normalize(x1)\n",
    "            x2_norm, T2 = normalize(x2)\n",
    "        else:\n",
    "            x1_norm,x2_norm = x1,x2\n",
    "            \n",
    "        A = np.zeros((len(x1_norm),9))\n",
    "        for i in range(0, len(x1_norm)):\n",
    "            x_1,y_1 = x1_norm[i][0], x1_norm[i][1]\n",
    "            x_2,y_2 = x2_norm[i][0], x2_norm[i][1]\n",
    "            A[i] = np.array([x_1*x_2, x_2*y_1, x_2, y_2*x_1, y_2*y_1, y_2, x_1, y_1, 1])\n",
    "\n",
    "        U, S, VT = np.linalg.svd(A, full_matrices=True)\n",
    "        F = VT.T[:, -1]\n",
    "        F = F.reshape(3,3)\n",
    "\n",
    "        u, s, vt = np.linalg.svd(F)\n",
    "        s = np.diag(s)\n",
    "        s[2,2] = 0\n",
    "        F = np.dot(u, np.dot(s, vt))\n",
    "        \n",
    "        if normalised:\n",
    "            F = np.dot(T2.T, np.dot(F, T1))\n",
    "            F = F / F[2,2]\n",
    "        return F\n",
    "\n",
    "    else:\n",
    "        return None"
   ]
  },
  {
   "cell_type": "code",
   "execution_count": 20,
   "metadata": {},
   "outputs": [],
   "source": [
    "def PnP(X_set, x_set, K):\n",
    "    N = X_set.shape[0]\n",
    "    \n",
    "    X_4 = homo(X_set)\n",
    "    x_3 = homo(x_set)\n",
    "    \n",
    "    # normalize x\n",
    "    K_inv = np.linalg.inv(K)\n",
    "    x_n = K_inv.dot(x_3.T).T\n",
    "    \n",
    "    for i in range(N):\n",
    "        X = X_4[i].reshape((1, 4))\n",
    "        zeros = np.zeros((1, 4))\n",
    "        \n",
    "        u, v, _ = x_n[i]\n",
    "        \n",
    "        u_cross = np.array([[0, -1, v],\n",
    "                            [1,  0 , -u],\n",
    "                            [-v, u, 0]])\n",
    "        X_tilde = np.vstack((np.hstack((   X, zeros, zeros)), \n",
    "                            np.hstack((zeros,     X, zeros)), \n",
    "                            np.hstack((zeros, zeros,     X))))\n",
    "        a = u_cross.dot(X_tilde)\n",
    "        \n",
    "        if i > 0:\n",
    "            A = np.vstack((A, a))\n",
    "        else:\n",
    "            A = a\n",
    "            \n",
    "    _, _, VT = np.linalg.svd(A)\n",
    "    P = VT[-1].reshape((3, 4))\n",
    "    R = P[:, :3]\n",
    "    U_r, D, V_rT = np.linalg.svd(R) # to enforce Orthonormality\n",
    "    R = U_r.dot(V_rT)\n",
    "    \n",
    "    C = P[:, 3]\n",
    "    C = - np.linalg.inv(R).dot(C)\n",
    "    \n",
    "    if np.linalg.det(R) < 0:\n",
    "        R = -R\n",
    "        C = -C\n",
    "        \n",
    "    return R, C\n",
    "\n",
    "def homo(pts):\n",
    "    return np.hstack((pts, np.ones((pts.shape[0], 1))))\n",
    "\n",
    "def PnPError(x, X, R, C, K):\n",
    "    u,v = x\n",
    "    X = homo(X.reshape(1,-1)).reshape(-1,1) # make X it a column of homogenous vector\n",
    "    C = C.reshape(-1, 1)\n",
    "    P = ProjectionMatrix(R,C,K)\n",
    "    p1, p2, p3 = P\n",
    "        \n",
    "    u_proj = np.divide(p1.dot(X) , p3.dot(X))\n",
    "    v_proj =  np.divide(p2.dot(X) , p3.dot(X))\n",
    "\n",
    "    x_proj = np.hstack((u_proj, v_proj))\n",
    "    x = np.hstack((u, v))\n",
    "    e = np.linalg.norm(x - x_proj)\n",
    "#     e = np.sqrt(np.square(u - u_proj) + np.square(v - v_proj))\n",
    "    return  e\n",
    "\n",
    "def PnPRANSAC(K, features, x3D, n_iterations = 1000, error_thresh = 5):\n",
    "\n",
    "    inliers_thresh = 0\n",
    "    chosen_indices = []\n",
    "    chosen_R, chosen_t = None, None\n",
    "    n_rows = x3D.shape[0]\n",
    "    \n",
    "    for i in range(0, n_iterations):\n",
    "        \n",
    "        #select 6 points randomly\n",
    "        random_indices = np.random.choice(n_rows, size=6)\n",
    "        X_set, x_set = x3D[random_indices], features[random_indices]\n",
    "        \n",
    "        R,C = PnP(X_set, x_set, K)\n",
    "        \n",
    "        indices = []\n",
    "        errors = []\n",
    "        if R is not None:\n",
    "            for j in range(n_rows):\n",
    "                feature = features[j]\n",
    "                X = x3D[j]\n",
    "                error = PnPError(feature, X, R, C, K)\n",
    "\n",
    "                if error < error_thresh:\n",
    "                    indices.append(j)\n",
    "                    \n",
    "        if len(indices) > inliers_thresh:\n",
    "            inliers_thresh = len(indices)\n",
    "            chosen_indices = indices\n",
    "            chosen_R = R\n",
    "            chosen_t = C\n",
    "            \n",
    "    #     filtered_features = features[chosen_indices, :]\n",
    "    return chosen_R, chosen_t"
   ]
  },
  {
   "cell_type": "code",
   "execution_count": 21,
   "metadata": {},
   "outputs": [],
   "source": [
    "def getQuaternion(R2):\n",
    "    Q = Rotation.from_matrix(R2)\n",
    "    return Q.as_quat()\n",
    "\n",
    "def getEuler(R2):\n",
    "    euler = Rotation.from_matrix(R2)\n",
    "    return euler.as_rotvec()\n",
    "\n",
    "def getRotation(Q, type_ = 'q'):\n",
    "    if type_ == 'q':\n",
    "        R = Rotation.from_quat(Q)\n",
    "        return R.as_matrix()\n",
    "    elif type_ == 'e':\n",
    "        R = Rotation.from_rotvec(Q)\n",
    "        return R.as_matrix()\n",
    "    \n",
    "def homo(pts):\n",
    "    return np.hstack((pts, np.ones((pts.shape[0], 1))))\n",
    "\n",
    "def NonLinearPnP(K, pts, x3D, R0, C0):\n",
    "\n",
    "    Q = getQuaternion(R0)\n",
    "    X0 = [Q[0] ,Q[1],Q[2],Q[3], C0[0], C0[1], C0[2]] \n",
    "\n",
    "    optimized_params = optimize.least_squares(\n",
    "        fun = PnPLoss,\n",
    "        x0=X0,\n",
    "        method=\"trf\",\n",
    "        args=[x3D, pts, K])\n",
    "    X1 = optimized_params.x\n",
    "    Q = X1[:4]\n",
    "    C = X1[4:]\n",
    "    R = getRotation(Q)\n",
    "    return R, C\n",
    "\n",
    "\n",
    "def PnPLoss(X0, x3D, pts, K):\n",
    "    \n",
    "    Q, C = X0[:4], X0[4:].reshape(-1,1)\n",
    "    R = getRotation(Q)\n",
    "    P = ProjectionMatrix(R,C,K)\n",
    "    \n",
    "    Error = []\n",
    "    for X, pt in zip(x3D, pts):\n",
    "\n",
    "        p_1T, p_2T, p_3T = P# rows of P\n",
    "        p_1T, p_2T, p_3T = p_1T.reshape(1,-1), p_2T.reshape(1,-1), p_3T.reshape(1,-1)\n",
    "\n",
    "\n",
    "        X = homo(X.reshape(1,-1)).reshape(-1,1) # make X it a column of homogenous vector\n",
    "        ## reprojection error for reference camera points \n",
    "        u, v = pt[0], pt[1]\n",
    "        u_proj = np.divide(p_1T.dot(X) , p_3T.dot(X))\n",
    "        v_proj =  np.divide(p_2T.dot(X) , p_3T.dot(X))\n",
    "\n",
    "        E = np.square(v - v_proj) + np.square(u - u_proj)\n",
    "\n",
    "        Error.append(E)\n",
    "\n",
    "    sumError = np.mean(np.array(Error).squeeze())\n",
    "    return sumError"
   ]
  },
  {
   "cell_type": "markdown",
   "metadata": {},
   "source": [
    "# Read Data"
   ]
  },
  {
   "cell_type": "code",
   "execution_count": 22,
   "metadata": {},
   "outputs": [
    {
     "name": "stdout",
     "output_type": "stream",
     "text": [
      "Reading images from  ../Data/\n"
     ]
    }
   ],
   "source": [
    "folder_name = \"../Data/\"\n",
    "total_images = 6\n",
    "images = readImageSet(folder_name, total_images)\n",
    "\n",
    "\"\"\"\n",
    " read the feature correspondencs as n x n_images matrix, \n",
    " if image 1 and image 2 have correspondences, then column 1 and column 2 has data in it\n",
    " \n",
    " In every row, the non zero column positions signify that there are point correspondences between those images\n",
    "\"\"\" \n",
    "feature_x, feature_y,  feature_flag, feature_descriptor = extractMatchingFeaturesFromFileNew(folder_name, total_images)"
   ]
  },
  {
   "cell_type": "markdown",
   "metadata": {},
   "source": [
    "# Show All Matches"
   ]
  },
  {
   "cell_type": "code",
   "execution_count": 18,
   "metadata": {},
   "outputs": [],
   "source": [
    "showAllMatches(images, feature_x, feature_y, feature_flag, total_images)"
   ]
  },
  {
   "cell_type": "markdown",
   "metadata": {},
   "source": [
    "# Filter Points"
   ]
  },
  {
   "cell_type": "code",
   "execution_count": 13,
   "metadata": {
    "tags": []
   },
   "outputs": [
    {
     "name": "stdout",
     "output_type": "stream",
     "text": [
      "At image :  0 1 || Number of inliers:  572 / 1426\n",
      "At image :  0 2 || Number of inliers:  265 / 608\n",
      "At image :  0 3 || Number of inliers:  175 / 470\n",
      "At image :  1 2 || Number of inliers:  687 / 2052\n",
      "At image :  1 3 || Number of inliers:  286 / 1073\n",
      "At image :  2 3 || Number of inliers:  514 / 2293\n",
      "At image :  2 4 || Number of inliers:  499 / 963\n",
      "At image :  2 5 || Number of inliers:  278 / 449\n",
      "At image :  3 4 || Number of inliers:  806 / 2160\n",
      "At image :  3 5 || Number of inliers:  503 / 1151\n",
      "At image :  4 5 || Number of inliers:  695 / 1965\n"
     ]
    }
   ],
   "source": [
    "\"\"\"\n",
    "givefiltered_feature_flagta points, we need high quality matches that are inliers in the fundamental matrices that we\n",
    "wil be estimating\n",
    "\"\"\"\n",
    "\n",
    "filtered_feature_flag = np.zeros_like(feature_flag)\n",
    "f_matrix = np.empty(shape=(total_images, total_images), dtype=object)\n",
    "\n",
    "for i in range(0, total_images - 1):\n",
    "    # filtered_feature_flag[:, i] = feature_descriptor[:,i]\n",
    "    for j in range(i + 1, total_images):\n",
    "        \n",
    "        idx = np.where(feature_flag[:,i] & feature_flag[:,j])\n",
    "        pts1 = np.hstack((feature_x[idx, i].reshape((-1, 1)), feature_y[idx, i].reshape((-1, 1))))\n",
    "        pts2 = np.hstack((feature_x[idx, j].reshape((-1, 1)), feature_y[idx, j].reshape((-1, 1))))\n",
    "        # showMatches(images[i], images[j], pts1, pts2, (0,255,0), None)\n",
    "        idx = np.array(idx).reshape(-1)\n",
    "        # print(len(idx))\n",
    "        if len(idx) > 8:\n",
    "            F_best, chosen_idx = getInliers(pts1, pts2, idx)\n",
    "            print('At image : ',  i,j, '|| Number of inliers: ', len(chosen_idx), '/', len(idx) )            \n",
    "            f_matrix[i, j] = F_best\n",
    "            filtered_feature_flag[chosen_idx, j] = 1\n",
    "            filtered_feature_flag[chosen_idx, i] = 1\n",
    "            \n",
    "# np.save('filtered_feature_flag.npy',filtered_feature_flag)\n",
    "# np.save('f_matrix.npy',f_matrix)"
   ]
  },
  {
   "cell_type": "code",
   "execution_count": 30,
   "metadata": {},
   "outputs": [],
   "source": [
    "# showFilteredMatches(images, feature_x, feature_y, feature_flag, filtered_feature_flag, total_images)\n",
    "showFilteredMatches(images, feature_x, feature_y, filtered_feature_flag, feature_flag, total_images)"
   ]
  },
  {
   "cell_type": "code",
   "execution_count": 23,
   "metadata": {},
   "outputs": [],
   "source": [
    "filtered_feature_flag = np.load('./tmp_files/filtered_feature_flag.npy', allow_pickle=True)\n",
    "f_matrix = np.load('./tmp_files/f_matrix.npy', allow_pickle=True)"
   ]
  },
  {
   "cell_type": "markdown",
   "metadata": {},
   "source": [
    "# For first 2 images"
   ]
  },
  {
   "cell_type": "code",
   "execution_count": 24,
   "metadata": {},
   "outputs": [],
   "source": [
    "n,m = 0,1\n",
    "F12 = f_matrix[n,m]\n",
    "E12 = getEssentialMatrix(K, F12)\n",
    "R_set, C_set = ExtractCameraPose(E12)"
   ]
  },
  {
   "cell_type": "markdown",
   "metadata": {},
   "source": [
    "## linear triangulation"
   ]
  },
  {
   "cell_type": "code",
   "execution_count": 25,
   "metadata": {},
   "outputs": [],
   "source": [
    "idx = np.where(filtered_feature_flag[:,n] & filtered_feature_flag[:,m])\n",
    "\n",
    "pts1 = np.hstack((feature_x[idx, n].reshape((-1, 1)), feature_y[idx, n].reshape((-1, 1))))\n",
    "pts2 = np.hstack((feature_x[idx, m].reshape((-1, 1)), feature_y[idx, m].reshape((-1, 1))))\n",
    "\n",
    "R1_ = np.identity(3)\n",
    "C1_ = np.zeros((3,1))\n",
    "I = np.identity(3)\n",
    "pts3D_4 = []\n",
    "for i in range(len(C_set)):\n",
    "    pts3D = []\n",
    "    x1 = pts1\n",
    "    x2 = pts2\n",
    "    X = LinearTriangulation(K, C1_, R1_, C_set[i], R_set[i], x1, x2)\n",
    "    X = X/X[:,3].reshape(-1,1)\n",
    "    pts3D_4.append(X)"
   ]
  },
  {
   "cell_type": "markdown",
   "metadata": {},
   "source": [
    "## Sanity Check: reproject 3D points to 2D"
   ]
  },
  {
   "cell_type": "code",
   "execution_count": 26,
   "metadata": {},
   "outputs": [],
   "source": [
    "k = 0\n",
    "project3DPoints(K, R_set[k], C_set[k], pts3D_4[k], images[1], pts2)\n",
    "cv2.destroyAllWindows()"
   ]
  },
  {
   "cell_type": "markdown",
   "metadata": {},
   "source": [
    "## Cheirality check"
   ]
  },
  {
   "cell_type": "code",
   "execution_count": 27,
   "metadata": {},
   "outputs": [],
   "source": [
    "R_chosen, C_chosen, X = DisambiguatePose(R_set, C_set, pts3D_4)\n",
    "X = X/X[:,3].reshape(-1,1)"
   ]
  },
  {
   "cell_type": "markdown",
   "metadata": {},
   "source": [
    "## Sanity Check: Plot 3D points "
   ]
  },
  {
   "cell_type": "code",
   "execution_count": 28,
   "metadata": {},
   "outputs": [
    {
     "data": {
      "text/plain": [
       "<matplotlib.collections.PathCollection at 0x7f7fb390eac8>"
      ]
     },
     "execution_count": 28,
     "metadata": {},
     "output_type": "execute_result"
    },
    {
     "data": {
      "image/png": "[encoded data removed]",
      "text/plain": [
       "<Figure size 432x288 with 1 Axes>"
      ]
     },
     "metadata": {
      "needs_background": "light"
     },
     "output_type": "display_data"
    }
   ],
   "source": [
    "del_idx = np.where(X[:,2] < 0)\n",
    "\n",
    "x = X[:,0]\n",
    "y = X[:,1]\n",
    "z = X[:,2]\n",
    "\n",
    "fig = plt.figure()\n",
    "# plt.scatter(x,z, color = 'blue')\n",
    "plt.scatter(x, z, color='red')\n",
    "\n",
    "# project3DPoints(K, R_chosen, C_chosen, X, images[1], pts2)"
   ]
  },
  {
   "cell_type": "markdown",
   "metadata": {},
   "source": [
    "## Non Linear triangulation"
   ]
  },
  {
   "cell_type": "code",
   "execution_count": 29,
   "metadata": {},
   "outputs": [],
   "source": [
    "x3D = X\n",
    "R1, C1, = R1_, C1_\n",
    "X_refined = NonLinearTriangulation(K, pts1, pts2, x3D, R1, C1, R_chosen, C_chosen)\n",
    "X_refined = X_refined / X_refined[:,3].reshape(-1,1)"
   ]
  },
  {
   "cell_type": "code",
   "execution_count": 30,
   "metadata": {},
   "outputs": [
    {
     "name": "stdout",
     "output_type": "stream",
     "text": [
      "Before optimization:  15.35018676707696 After optimization : 15.25197935823187\n"
     ]
    },
    {
     "data": {
      "image/png": "[encoded data removed]",
      "text/plain": [
       "<Figure size 432x288 with 1 Axes>"
      ]
     },
     "metadata": {
      "needs_background": "light"
     },
     "output_type": "display_data"
    }
   ],
   "source": [
    "del_idx = np.where(X[:,2] < 0)\n",
    "\n",
    "x = X[:,0]\n",
    "y = X[:,1]\n",
    "z = X[:,2]\n",
    "x1 = X_refined[:,0]\n",
    "y1 = X_refined[:,1]\n",
    "z1 = X_refined[:,2]\n",
    "\n",
    "fig = plt.figure()\n",
    "plt.scatter(x1,z1, color = 'blue')\n",
    "plt.scatter(x, z, color='red')\n",
    "\n",
    "mean_error1 = meanReprojectionError(X, pts1, pts2, R1, C1, R_chosen, C_chosen, K )\n",
    "mean_error2 = meanReprojectionError(X_refined, pts1, pts2, R1, C1, R_chosen, C_chosen, K )\n",
    "\n",
    "print('Before optimization: ', mean_error1, 'After optimization :', mean_error2)"
   ]
  },
  {
   "cell_type": "markdown",
   "metadata": {},
   "source": [
    "# Register Camera and add 3D points"
   ]
  },
  {
   "cell_type": "code",
   "execution_count": 33,
   "metadata": {},
   "outputs": [
    {
     "name": "stdout",
     "output_type": "stream",
     "text": [
      "(602,)\n",
      "602 -- (537,)\n"
     ]
    }
   ],
   "source": [
    "X_all = np.zeros((feature_x.shape[0], 3))\n",
    "camera_indices = np.zeros((feature_x.shape[0], 1), dtype = int) \n",
    "X_found = np.zeros((feature_x.shape[0], 1), dtype = int)\n",
    "\n",
    "X_all[idx] = X[:, :3]\n",
    "X_found[idx] = 1\n",
    "camera_indices[idx] = 1\n",
    "\n",
    "print(np.nonzero(X_found[idx])[0].shape)\n",
    "X_found[np.where(X_all[:,2] < 0)] = 0\n",
    "print(len(idx[0]), '--' ,np.nonzero(X_found[idx])[0].shape)\n",
    "\n",
    "C_set_ = []\n",
    "R_set_ = []\n",
    "\n",
    "C0 = np.zeros(3)\n",
    "R0 = np.identity(3)\n",
    "\n",
    "C_set_.append(C0)\n",
    "R_set_.append(R0)\n",
    "\n",
    "C_set_.append(C_chosen)\n",
    "R_set_.append(R_chosen)"
   ]
  },
  {
   "cell_type": "markdown",
   "metadata": {},
   "source": [
    "## Sanity Check: plot the available X_all and remove negative points. Why? because they might cause trouble in future"
   ]
  },
  {
   "cell_type": "code",
   "execution_count": 34,
   "metadata": {},
   "outputs": [
    {
     "name": "stdout",
     "output_type": "stream",
     "text": [
      "Length of data found before.. 537\n"
     ]
    },
    {
     "data": {
      "image/png": "[encoded data removed]",
      "text/plain": [
       "<Figure size 432x288 with 1 Axes>"
      ]
     },
     "metadata": {
      "needs_background": "light"
     },
     "output_type": "display_data"
    }
   ],
   "source": [
    "# run for 0,1\n",
    "X_idx = np.where(X_found[:, 0] & filtered_feature_flag[:, 1])\n",
    "print('Length of data found before..', len(X_idx[0]))\n",
    "\n",
    "X = X_all[X_idx, :].reshape(-1,3)\n",
    "pts = np.hstack((feature_x[X_idx, 1].reshape(-1,1), feature_y[X_idx, 1].reshape(-1,1)))\n",
    "fig = plt.figure()\n",
    "plt.scatter(X[:,0], X[:,2], color = 'blue')\n",
    "\n",
    "project3DPoints(K, R_set_[1], C_set_[1], X, images[1], pts)"
   ]
  },
  {
   "cell_type": "code",
   "execution_count": 35,
   "metadata": {},
   "outputs": [],
   "source": [
    "# Main pipeline"
   ]
  },
  {
   "cell_type": "code",
   "execution_count": 32,
   "metadata": {},
   "outputs": [],
   "source": [
    "def getObservationsIndexAndVizMat(X_found, filtered_feature_flag, nCam):\n",
    "    # find the 3d points such that they are visible in either of the cameras < nCam\n",
    "    bin_temp = np.zeros((filtered_feature_flag.shape[0]), dtype = int)\n",
    "    for n in range(nCam + 1):\n",
    "        bin_temp = bin_temp | filtered_feature_flag[:,n]\n",
    "\n",
    "    X_index = np.where((X_found.reshape(-1)) & (bin_temp))\n",
    "    \n",
    "    visiblity_matrix = X_found[X_index].reshape(-1,1)\n",
    "    for n in range(nCam + 1):\n",
    "        visiblity_matrix = np.hstack((visiblity_matrix, filtered_feature_flag[X_index, n].reshape(-1,1)))\n",
    "\n",
    "    o, c = visiblity_matrix.shape\n",
    "    return X_index, visiblity_matrix[:, 1:c]\n",
    "\n",
    "def get2DPoints(X_index, visiblity_matrix, feature_x, feature_y):\n",
    "    pts2D = []\n",
    "    visible_feature_x = feature_x[X_index]\n",
    "    visible_feature_y = feature_y[X_index]\n",
    "    h, w = visiblity_matrix.shape\n",
    "    for i in range(h):\n",
    "        for j in range(w):\n",
    "            if visiblity_matrix[i,j] == 1:\n",
    "                pt = np.hstack((visible_feature_x[i,j], visible_feature_y[i,j]))\n",
    "                pts2D.append(pt)\n",
    "    return np.array(pts2D).reshape(-1, 2)             \n",
    "\n",
    "def getCameraPointIndices(visiblity_matrix):\n",
    "    camera_indices = []\n",
    "    point_indices = []\n",
    "    h, w = visiblity_matrix.shape\n",
    "    for i in range(h):\n",
    "        for j in range(w):\n",
    "            if visiblity_matrix[i,j] == 1:\n",
    "                camera_indices.append(j)\n",
    "                point_indices.append(i)\n",
    "\n",
    "    return np.array(camera_indices).reshape(-1), np.array(point_indices).reshape(-1)\n",
    "\n",
    "def bundle_adjustment_sparsity(X_found, filtered_feature_flag, nCam):\n",
    "\n",
    "    number_of_cam = nCam + 1\n",
    "    X_index, visiblity_matrix = getObservationsIndexAndVizMat(X_found.reshape(-1), filtered_feature_flag, nCam)\n",
    "    n_observations = np.sum(visiblity_matrix)\n",
    "    n_points = len(X_index[0])\n",
    "\n",
    "\n",
    "\n",
    "    m = n_observations * 2\n",
    "    n = number_of_cam * 7 + n_points * 3\n",
    "    A = lil_matrix((m, n), dtype=int)\n",
    "    print(m, n)\n",
    "\n",
    "\n",
    "    i = np.arange(n_observations)\n",
    "    camera_indices, point_indices = getCameraPointIndices(visiblity_matrix)\n",
    "\n",
    "    for s in range(7):\n",
    "        A[2 * i, camera_indices * 7 + s] = 1\n",
    "        A[2 * i + 1, camera_indices * 7 + s] = 1\n",
    "\n",
    "    for s in range(3):\n",
    "        A[2 * i, (nCam)* 7 + point_indices * 3 + s] = 1\n",
    "        A[2 * i + 1, (nCam) * 7 + point_indices * 3 + s] = 1\n",
    "\n",
    "    return A"
   ]
  },
  {
   "cell_type": "code",
   "execution_count": 27,
   "metadata": {},
   "outputs": [],
   "source": [
    "import scipy.optimize as optimize\n",
    "\n",
    "from scipy.sparse import hstack\n",
    "from scipy.sparse import lil_matrix\n",
    "\n",
    "\n",
    "def build_Bmatrix(filtered_feature_flag, n_params = 6, n_cameras = 6):\n",
    "    \n",
    "    for i in range(n_cameras):\n",
    "        camera_indi = np.tile(filtered_feature_flag[:,i].reshape(-1,1), (1,n_params))\n",
    "\n",
    "        if i==0:\n",
    "            camera_ind_all = camera_indi\n",
    "        else:\n",
    "            camera_ind_all = np.hstack((camera_ind_all, camera_indi))\n",
    "    \n",
    "    u = np.arange(camera_ind_all.shape[0])\n",
    "    Bmatrix = lil_matrix((camera_ind_all.shape[0]*2,camera_ind_all.shape[1] ), dtype=np.int8)\n",
    "#     Bmatrix = np.zeros((camera_ind_all.shape[0]*2,camera_ind_all.shape[1]))\n",
    "\n",
    "    Bmatrix[2*u, :] = camera_ind_all\n",
    "    Bmatrix[2*u+1, :] = camera_ind_all\n",
    "    return Bmatrix\n",
    "\n",
    "def build_Cmatrix(filtered_feature_flag, X_found, n_cameras = 6):\n",
    "    \n",
    "    Cmatrix = lil_matrix((filtered_feature_flag.shape[0]*2, X_found.shape[0]*3), dtype=np.int8)\n",
    "#     Cmatrix = np.zeros((filtered_feature_flag.shape[0]*2, X_found.shape[0]*3 ))\n",
    "    \n",
    "    for i in range(n_cameras):\n",
    "        for j in range(i, n_cameras):\n",
    "            # indices in the 1st camera where, 2D point and 3D point are visible\n",
    "            idxs = np.where(filtered_feature_flag[:,i] & filtered_feature_flag[:,j] & X_found[:,0])[0]\n",
    "            \n",
    "            for s in range(3):\n",
    "                Cmatrix[2*idxs, idxs*3 +s] = 1\n",
    "                Cmatrix[2*idxs+1, idxs*3 +s] = 1\n",
    "    \n",
    "    return Cmatrix\n",
    "\n",
    "def sparseMatrix(filtered_feature_flag, X_found, n_params = 6, n_cameras = 6 ):\n",
    "    \n",
    "    Bmatrix = build_Bmatrix(filtered_feature_flag, n_params, n_cameras) # camera parameters\n",
    "    Cmatrix = build_Cmatrix(filtered_feature_flag, X_found, n_cameras) # 3D points\n",
    "    jacobian = hstack((Cmatrix, Bmatrix))\n",
    "    \n",
    "    return jacobian\n"
   ]
  },
  {
   "cell_type": "code",
   "execution_count": 28,
   "metadata": {},
   "outputs": [],
   "source": [
    "R_set_ = np.load('./tmp_files/R_set.npy',allow_pickle=True)\n",
    "C_set_ = np.load('./tmp_files/C_set.npy',allow_pickle=True)\n",
    "X_found = np.load('./tmp_files/X_found.npy',allow_pickle=True)\n",
    "X_all = np.load('./tmp_files/X_all.npy',allow_pickle=True)"
   ]
  },
  {
   "cell_type": "code",
   "execution_count": 87,
   "metadata": {},
   "outputs": [],
   "source": [
    "def loss(x0, X_found, feature_x, feature_y, filtered_feature_flag, K, n_cameras, n_params = 6):\n",
    "\n",
    "    camera_params = x0[:n_cameras * n_params].reshape((n_cameras, n_params))\n",
    "    X_all = x0[n_cameras * n_params:].reshape((-1, 3))\n",
    "    residuals = np.zeros(X_found.shape[0]*2)\n",
    "\n",
    "    for i in range(n_cameras):\n",
    "        params_i = camera_params[i]\n",
    "        Q, C = params_i[:3], params_i[3:]\n",
    "        R = getRotation(Q, 'e')\n",
    "\n",
    "        for j in range(i, n_cameras):\n",
    "            # indices in the 1st camera where, 2D point and 3D point are visible\n",
    "\n",
    "            idxs = np.where(filtered_feature_flag[:,i] & filtered_feature_flag[:,j] & X_found[:,0])[0]\n",
    "\n",
    "            pts_i = np.hstack((feature_x[idxs, i].reshape(-1,1), feature_y[idxs, i].reshape(-1,1)))\n",
    "            x3D = X_all[idxs, :].reshape(-1,3)\n",
    "            x_proj = projectPts(R, C, x3D, K)[:,:2]\n",
    "            error_vec = np.square( pts_i - x_proj )\n",
    "\n",
    "            residuals[2*idxs] = error_vec[:,0]\n",
    "            residuals[2*idxs+1] = error_vec[:,1]\n",
    "    \n",
    "    return residuals"
   ]
  },
  {
   "cell_type": "code",
   "execution_count": 88,
   "metadata": {},
   "outputs": [],
   "source": [
    "# def TotalBundleAdjustment(R_set_, C_set_, X_all, X_found, feature_x, feature_y, filtered_feature_flag):\n",
    "\n",
    "## returns a matrix of all 6 camera poses where each row correponds to one camera \n",
    "camera_params = []\n",
    "n_params = 6\n",
    "for c, r in zip(C_set_, R_set_):\n",
    "    r_vec = getEuler(r)\n",
    "    params = [r_vec[0], r_vec[1], r_vec[2], c[0], c[1], c[2]] # length 7 parameters\n",
    "    camera_params.append(params)\n",
    "camera_params = np.array(camera_params).reshape(-1,n_params)\n",
    "\n",
    "n_cameras, n_points = camera_params.shape[0], X_all.shape[0] # 3D point count same as 2D points\n",
    "\n",
    "\n",
    "jacobian = sparseMatrix(filtered_feature_flag, X_found, n_params, n_cameras )\n",
    "      \n",
    "x0 = np.hstack((camera_params.ravel(), X_all.ravel()))"
   ]
  },
  {
   "cell_type": "code",
   "execution_count": 96,
   "metadata": {},
   "outputs": [
    {
     "data": {
      "text/plain": [
       "((20662,), (31029,), (20662, 31029))"
      ]
     },
     "execution_count": 96,
     "metadata": {},
     "output_type": "execute_result"
    }
   ],
   "source": [
    "loss(x0, X_found, feature_x, feature_y, filtered_feature_flag, K, n_cameras, n_params = 6).shape, x0.shape,  jacobian.shape"
   ]
  },
  {
   "cell_type": "code",
   "execution_count": 93,
   "metadata": {},
   "outputs": [
    {
     "name": "stdout",
     "output_type": "stream",
     "text": [
      "   Iteration     Total nfev        Cost      Cost reduction    Step norm     Optimality   \n",
      "       0              1         5.1508e+08                                    5.72e+09    \n",
      "       1             11         5.1508e+08      0.00e+00       0.00e+00       5.72e+09    \n",
      "`xtol` termination condition is satisfied.\n",
      "Function evaluations 11, initial cost 5.1508e+08, final cost 5.1508e+08, first-order optimality 5.72e+09.\n"
     ]
    }
   ],
   "source": [
    "parameters = optimize.least_squares(loss, x0, jac_sparsity=jacobian, verbose=2, x_scale='jac', ftol=1e-4, method='dogbox',\n",
    "                   args=(X_found, feature_x, feature_y, filtered_feature_flag, K, n_cameras, n_params))"
   ]
  },
  {
   "cell_type": "code",
   "execution_count": 219,
   "metadata": {},
   "outputs": [],
   "source": [
    "\n",
    "parameters = optimize.least_squares(loss, x0, jac_sparsity=A, verbose=2, x_scale='jac', ftol=1e-4, method='trf',\n",
    "                   args=(X_found, feature_x, feature_y, filtered_feature_flag, n_cameras, n_params = 6))\n",
    "\n",
    "x1 = parameters.x\n",
    "\n",
    "optimized_camera_params = x1[0:camera_params.size]\n",
    "optimized_camera_params = optimized_camera_params.reshape(-1,7)\n",
    "\n",
    "optimized_3Dpoints = x1[camera_params.size:]\n",
    "optimized_3Dpoints.reshape(-1,3)\n",
    "\n",
    "optimized_R_set, optimized_C_set = [], []\n",
    "for params in optimized_camera_params:\n",
    "    Q = params[:3]\n",
    "    R = getRotation(Q, 'e')\n",
    "    C = params[3:]\n",
    "    optimized_R_set.append(R)\n",
    "    optimized_C_set.append(C)\n",
    "\n",
    "# return optimized_R_set, optimized_C_set, optimized_3Dpoints"
   ]
  },
  {
   "cell_type": "code",
   "execution_count": 231,
   "metadata": {},
   "outputs": [
    {
     "data": {
      "text/plain": [
       "((3269, 3), (10331, 3))"
      ]
     },
     "execution_count": 231,
     "metadata": {},
     "output_type": "execute_result"
    }
   ],
   "source": [
    "X_all[X_found[:,0]==1].shape, X_all.shape"
   ]
  },
  {
   "cell_type": "markdown",
   "metadata": {},
   "source": [
    "## Register camera and append 3D points"
   ]
  },
  {
   "cell_type": "code",
   "execution_count": null,
   "metadata": {},
   "outputs": [],
   "source": []
  },
  {
   "cell_type": "code",
   "execution_count": 19,
   "metadata": {},
   "outputs": [
    {
     "name": "stdout",
     "output_type": "stream",
     "text": [
      "Length of data found before.. 104 537\n",
      "appended  283 points between  0  and  2\n",
      "appended  750 points between  1  and  2\n",
      "Length of data found before.. 214 1254\n",
      "appended  196 points between  0  and  3\n",
      "appended  361 points between  1  and  3\n",
      "appended  722 points between  2  and  3\n",
      "Length of data found before.. 161 1876\n",
      "appended  529 points between  2  and  4\n",
      "appended  913 points between  3  and  4\n",
      "Length of data found before.. 276 2894\n",
      "appended  288 points between  2  and  5\n",
      "appended  557 points between  3  and  5\n",
      "appended  788 points between  4  and  5\n"
     ]
    }
   ],
   "source": [
    "A_list = []\n",
    "for i in range(2, total_images):\n",
    "    \n",
    "    # select the indices that belong to the i-th image and previously found 3D pt set ( should be i-1)\n",
    "    feature_idx_i = np.where(X_found[:, 0] & filtered_feature_flag[:, i])\n",
    "    \n",
    "    \n",
    "    print('Length of data found before..', len(feature_idx_i[0]), len(np.nonzero(X_found[:, 0])[0]))\n",
    "    if len(feature_idx_i[0]) < 8:\n",
    "        print(\"Found \", len(feature_idx_i), \"common points between X and \", i, \" image\")\n",
    "        continue\n",
    "    # obtain all the feature points that correspond to the i-th image\n",
    "    pts_i = np.hstack((feature_x[feature_idx_i, i].reshape(-1,1), feature_y[feature_idx_i, i].reshape(-1,1)))\n",
    "    \n",
    "    # get the 3D points that we have estimated with previous i-1 th pose\n",
    "    X = X_all[feature_idx_i, :].reshape(-1,3)\n",
    "    camera_indices[feature_idx_i] = i\n",
    "    \n",
    "    #Obtain camera pose of the i-th image\n",
    "    R_init, C_init = PnPRANSAC(K, pts_i, X, n_iterations = 1000, error_thresh = 5)\n",
    "    Ri, Ci = NonLinearPnP(K, pts_i, X, R_init, C_init)\n",
    "    \n",
    "    # add the i-th camera pose to our records\n",
    "    C_set_.append(Ci)\n",
    "    R_set_.append(Ri)\n",
    "    \n",
    "    #trianglulation\n",
    "    ## we use the currently known i-th pose and add the 3D points with respect\n",
    "    # to the previously known j-th poses  \n",
    "    for j in range(0, i):\n",
    "        # idx_X_pts = np.where(X_found[:, 0] & filtered_feature_flag[:, j] & filtered_feature_flag[:, i])\n",
    "        \n",
    "        # find the indices where i and j image has point correspondences from our record \n",
    "        idx_X_pts = np.where(filtered_feature_flag[:, j] & filtered_feature_flag[:, i])\n",
    "        if (len(idx_X_pts[0]) < 8):\n",
    "            continue\n",
    "        \n",
    "        # using the indices, get the i and j th feature points \n",
    "        x1 = np.hstack((feature_x[idx_X_pts, j].reshape((-1, 1)), feature_y[idx_X_pts, j].reshape((-1, 1))))\n",
    "        x2 = np.hstack((feature_x[idx_X_pts, i].reshape((-1, 1)), feature_y[idx_X_pts, i].reshape((-1, 1))))\n",
    "        \n",
    "        # get the 3D points of i-th and j-th image using their feature correspondences:\n",
    "         \n",
    "        X = LinearTriangulation(K, C_set_[j], R_set_[j], Ci, Ri, x1, x2)\n",
    "        X = X/X[:,3].reshape(-1,1)\n",
    "        X = NonLinearTriangulation(K, x1, x2, X, R_set_[j], C_set_[j], Ri, Ci)\n",
    "        X = X/X[:,3].reshape(-1,1)\n",
    "\n",
    "        print(\"appended \", len(idx_X_pts[0]), \"points between \", j ,\" and \", i)\n",
    "\n",
    "        X_all[idx_X_pts] = X[:,:3]\n",
    "        X_found[idx_X_pts] = 1\n",
    "        X_found[np.where(X_all[:,2] < 0)] = 0\n",
    "camera_indices = camera_indices.ravel()"
   ]
  },
  {
   "cell_type": "code",
   "execution_count": 38,
   "metadata": {},
   "outputs": [
    {
     "name": "stdout",
     "output_type": "stream",
     "text": [
      "Length of data found before.. 104 537\n",
      "appended  283 points between  0  and  2\n",
      "appended  750 points between  1  and  2\n",
      "Length of data found before.. 157 1041\n",
      "appended  196 points between  0  and  3\n",
      "appended  361 points between  1  and  3\n",
      "appended  722 points between  2  and  3\n",
      "Length of data found before.. 167 1824\n",
      "appended  529 points between  2  and  4\n",
      "appended  913 points between  3  and  4\n",
      "Length of data found before.. 292 2774\n",
      "appended  288 points between  2  and  5\n",
      "appended  557 points between  3  and  5\n",
      "appended  788 points between  4  and  5\n"
     ]
    }
   ],
   "source": [
    "    \n",
    "    A_list.append(jacobian)\n",
    "\n",
    "#     R_set, C_set_, X_all = BundleAdjustment(C_set_, R_set_, X_all, X_found, feature_x,feature_y, i)"
   ]
  },
  {
   "cell_type": "code",
   "execution_count": 43,
   "metadata": {},
   "outputs": [
    {
     "data": {
      "text/plain": [
       "[<2082x3141 sparse matrix of type '<class 'numpy.int64'>'\n",
       " \twith 6539562 stored elements in List of Lists format>,\n",
       " <3648x5496 sparse matrix of type '<class 'numpy.int64'>'\n",
       " \twith 20049408 stored elements in List of Lists format>,\n",
       " <5548x8352 sparse matrix of type '<class 'numpy.int64'>'\n",
       " \twith 46336896 stored elements in List of Lists format>,\n",
       " <7442x11199 sparse matrix of type '<class 'numpy.int64'>'\n",
       " \twith 83342958 stored elements in List of Lists format>]"
      ]
     },
     "execution_count": 43,
     "metadata": {},
     "output_type": "execute_result"
    }
   ],
   "source": [
    "A_list"
   ]
  },
  {
   "cell_type": "code",
   "execution_count": 30,
   "metadata": {},
   "outputs": [],
   "source": [
    "np.save('R_set.npy',R_set_)\n",
    "np.save('C_set.npy',C_set_)\n",
    "np.save('X_found.npy',X_found)\n",
    "np.save('X_all.npy',X_all)"
   ]
  },
  {
   "cell_type": "markdown",
   "metadata": {},
   "source": [
    "## Plot 3D points"
   ]
  },
  {
   "cell_type": "code",
   "execution_count": 32,
   "metadata": {},
   "outputs": [
    {
     "data": {
      "text/plain": [
       "<matplotlib.collections.PathCollection at 0x7f5ac7f06588>"
      ]
     },
     "execution_count": 32,
     "metadata": {},
     "output_type": "execute_result"
    },
    {
     "data": {
      "image/png": "[encoded data removed]",
      "text/plain": [
       "<Figure size 432x288 with 1 Axes>"
      ]
     },
     "metadata": {
      "needs_background": "light"
     },
     "output_type": "display_data"
    }
   ],
   "source": [
    "feature_idx = np.where(X_found[:, 0])\n",
    "X = X_all[feature_idx]\n",
    "fig = plt.figure()\n",
    "x = X[:,0]\n",
    "z = X[:,2]\n",
    "x[(x < -500) | (x > 500)] = 0 \n",
    "z[(z <= 0) | (z > 500)] = 0\n",
    "# plt.axis('equal')\n",
    "plt.xlim(-250,  250)\n",
    "plt.ylim(0,  500)\n",
    "plt.scatter(x, z, marker='.',linewidths=0.5, color = 'blue')"
   ]
  },
  {
   "cell_type": "markdown",
   "metadata": {},
   "source": [
    "## Sanity Check: Reproject 3D points to 2D"
   ]
  },
  {
   "cell_type": "code",
   "execution_count": 33,
   "metadata": {},
   "outputs": [],
   "source": [
    "for i in range(0, total_images):\n",
    "    R = R_set_[i]\n",
    "    C = C_set_[i]\n",
    "\n",
    "    P = ProjectionMatrix(R,C,K)\n",
    "\n",
    "    feature_idx = np.where(X_found[:, 0] & filtered_feature_flag[:, i])\n",
    "    if len(feature_idx[0]) < 8:\n",
    "        continue\n",
    "        \n",
    "    pts_i = np.hstack((feature_x[feature_idx, i].reshape(-1,1), feature_y[feature_idx, i].reshape(-1,1)))\n",
    "    X = X_all[feature_idx]\n",
    "\n",
    "    project3DPoints(K, R, C, X, images[i], pts_i)\n",
    "    \n",
    "    \n"
   ]
  },
  {
   "cell_type": "code",
   "execution_count": 35,
   "metadata": {},
   "outputs": [
    {
     "ename": "UnboundLocalError",
     "evalue": "local variable 'camera_params' referenced before assignment",
     "output_type": "error",
     "traceback": [
      "\u001b[0;31m---------------------------------------------------------------------------\u001b[0m",
      "\u001b[0;31mUnboundLocalError\u001b[0m                         Traceback (most recent call last)",
      "\u001b[0;32m<ipython-input-35-ea07c53b17d4>\u001b[0m in \u001b[0;36m<module>\u001b[0;34m\u001b[0m\n\u001b[1;32m     50\u001b[0m     \u001b[0;32mreturn\u001b[0m \u001b[0moptimized_R_set\u001b[0m\u001b[0;34m,\u001b[0m \u001b[0moptimized_C_set\u001b[0m\u001b[0;34m,\u001b[0m \u001b[0moptimized_3Dpoints\u001b[0m\u001b[0;34m\u001b[0m\u001b[0;34m\u001b[0m\u001b[0m\n\u001b[1;32m     51\u001b[0m \u001b[0;34m\u001b[0m\u001b[0m\n\u001b[0;32m---> 52\u001b[0;31m \u001b[0mR_set_\u001b[0m\u001b[0;34m,\u001b[0m \u001b[0mC_set_\u001b[0m\u001b[0;34m,\u001b[0m \u001b[0mX_all\u001b[0m \u001b[0;34m=\u001b[0m \u001b[0mBundleAdjustment\u001b[0m\u001b[0;34m(\u001b[0m\u001b[0mC_set_\u001b[0m\u001b[0;34m,\u001b[0m \u001b[0mR_set_\u001b[0m\u001b[0;34m,\u001b[0m \u001b[0mX_all\u001b[0m\u001b[0;34m,\u001b[0m \u001b[0mX_found\u001b[0m\u001b[0;34m,\u001b[0m \u001b[0mfeature_x\u001b[0m\u001b[0;34m,\u001b[0m\u001b[0mfeature_y\u001b[0m\u001b[0;34m)\u001b[0m\u001b[0;34m\u001b[0m\u001b[0;34m\u001b[0m\u001b[0m\n\u001b[0m",
      "\u001b[0;32m<ipython-input-35-ea07c53b17d4>\u001b[0m in \u001b[0;36mBundleAdjustment\u001b[0;34m(C_set_, R_set_, X_all, X_found, feature_x, feature_y)\u001b[0m\n\u001b[1;32m     17\u001b[0m         \u001b[0mQ\u001b[0m \u001b[0;34m=\u001b[0m \u001b[0mgetQuaternion\u001b[0m\u001b[0;34m(\u001b[0m\u001b[0mr\u001b[0m\u001b[0;34m)\u001b[0m\u001b[0;34m\u001b[0m\u001b[0;34m\u001b[0m\u001b[0m\n\u001b[1;32m     18\u001b[0m         \u001b[0mparams\u001b[0m \u001b[0;34m=\u001b[0m \u001b[0;34m[\u001b[0m\u001b[0mQ\u001b[0m\u001b[0;34m[\u001b[0m\u001b[0;36m0\u001b[0m\u001b[0;34m]\u001b[0m\u001b[0;34m,\u001b[0m \u001b[0mQ\u001b[0m\u001b[0;34m[\u001b[0m\u001b[0;36m1\u001b[0m\u001b[0;34m]\u001b[0m\u001b[0;34m,\u001b[0m \u001b[0mQ\u001b[0m\u001b[0;34m[\u001b[0m\u001b[0;36m2\u001b[0m\u001b[0;34m]\u001b[0m\u001b[0;34m,\u001b[0m \u001b[0mQ\u001b[0m\u001b[0;34m[\u001b[0m\u001b[0;36m3\u001b[0m\u001b[0;34m]\u001b[0m\u001b[0;34m,\u001b[0m \u001b[0mc\u001b[0m\u001b[0;34m[\u001b[0m\u001b[0;36m0\u001b[0m\u001b[0;34m]\u001b[0m\u001b[0;34m,\u001b[0m \u001b[0mc\u001b[0m\u001b[0;34m[\u001b[0m\u001b[0;36m1\u001b[0m\u001b[0;34m]\u001b[0m\u001b[0;34m,\u001b[0m \u001b[0mc\u001b[0m\u001b[0;34m[\u001b[0m\u001b[0;36m2\u001b[0m\u001b[0;34m]\u001b[0m\u001b[0;34m]\u001b[0m \u001b[0;31m# length is 7\u001b[0m\u001b[0;34m\u001b[0m\u001b[0;34m\u001b[0m\u001b[0m\n\u001b[0;32m---> 19\u001b[0;31m         \u001b[0mcamera_params\u001b[0m\u001b[0;34m.\u001b[0m\u001b[0mappend\u001b[0m\u001b[0;34m(\u001b[0m\u001b[0mparams\u001b[0m\u001b[0;34m)\u001b[0m\u001b[0;34m\u001b[0m\u001b[0;34m\u001b[0m\u001b[0m\n\u001b[0m\u001b[1;32m     20\u001b[0m     \u001b[0mcamera_params\u001b[0m \u001b[0;34m=\u001b[0m \u001b[0mcamera_params\u001b[0m\u001b[0;34m.\u001b[0m\u001b[0mreshape\u001b[0m\u001b[0;34m(\u001b[0m\u001b[0;34m-\u001b[0m\u001b[0;36m1\u001b[0m\u001b[0;34m,\u001b[0m\u001b[0;36m7\u001b[0m\u001b[0;34m)\u001b[0m\u001b[0;34m\u001b[0m\u001b[0;34m\u001b[0m\u001b[0m\n\u001b[1;32m     21\u001b[0m \u001b[0;34m\u001b[0m\u001b[0m\n",
      "\u001b[0;31mUnboundLocalError\u001b[0m: local variable 'camera_params' referenced before assignment"
     ]
    }
   ],
   "source": [
    "# R_set_, C_set_, X_all = BundleAdjustment(C_set_, R_set_, X_all, X_found, feature_x,feature_y)\n"
   ]
  }
 ],
 "metadata": {
  "kernelspec": {
   "display_name": "Python 3",
   "language": "python",
   "name": "python3"
  },
  "language_info": {
   "codemirror_mode": {
    "name": "ipython",
    "version": 3
   },
   "file_extension": ".py",
   "mimetype": "text/x-python",
   "name": "python",
   "nbconvert_exporter": "python",
   "pygments_lexer": "ipython3",
   "version": "3.6.9"
  },
  "metadata": {
   "interpreter": {
    "hash": "31f2aee4e71d21fbe5cf8b01ff0e069b9275f58929596ceb00d14d90e3e16cd6"
   }
  }
 },
 "nbformat": 4,
 "nbformat_minor": 4
}
