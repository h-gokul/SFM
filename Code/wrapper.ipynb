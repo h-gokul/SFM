{
 "metadata": {
  "language_info": {
   "codemirror_mode": {
    "name": "ipython",
    "version": 3
   },
   "file_extension": ".py",
   "mimetype": "text/x-python",
   "name": "python",
   "nbconvert_exporter": "python",
   "pygments_lexer": "ipython3",
   "version": "3.6.9-final"
  },
  "orig_nbformat": 2,
  "kernelspec": {
   "name": "python369jvsc74a57bd031f2aee4e71d21fbe5cf8b01ff0e069b9275f58929596ceb00d14d90e3e16cd6",
   "display_name": "Python 3.6.9 64-bit"
  },
  "metadata": {
   "interpreter": {
    "hash": "31f2aee4e71d21fbe5cf8b01ff0e069b9275f58929596ceb00d14d90e3e16cd6"
   }
  }
 },
 "nbformat": 4,
 "nbformat_minor": 2,
 "cells": [
  {
   "cell_type": "code",
   "execution_count": 2,
   "metadata": {},
   "outputs": [],
   "source": [
    "import numpy as np\n",
    "import cv2\n",
    "from EstimateFundamentalMatrix import *\n",
    "from GetInliersRANSAC import *\n",
    "from EssentialMatrixFromFundamentalMatrix import *\n",
    "\n",
    "from Utils.ImageUtils import *\n",
    "from Utils.DataLoader import *"
   ]
  },
  {
   "cell_type": "code",
   "execution_count": 3,
   "metadata": {},
   "outputs": [],
   "source": [
    "K = np.array([[568.996140852, 0, 643.21055941],[0, 568.988362396, 477.982801038],[0, 0, 1]]).reshape(3,3)"
   ]
  },
  {
   "cell_type": "code",
   "execution_count": 4,
   "metadata": {
    "tags": []
   },
   "outputs": [
    {
     "output_type": "stream",
     "name": "stdout",
     "text": [
      "Reading images from  /home/sakshi/courses/CMSC733/sakshi_project3/Data/\n",
      "0 1\n",
      "0 2\n",
      "0 3\n",
      "0 4\n",
      "0 5\n",
      "1 2\n",
      "1 3\n",
      "1 4\n",
      "1 5\n",
      "2 3\n",
      "2 4\n",
      "2 5\n",
      "3 4\n",
      "3 5\n",
      "4 5\n"
     ]
    }
   ],
   "source": [
    "folder_name = \"/home/sakshi/courses/CMSC733/sakshi_project3/Data/\"\n",
    "total_images = 6\n",
    "images = readImageSet(folder_name, total_images)\n",
    "feature_matrix = extractMatchingFeaturesFromFile(folder_name, total_images)\n",
    "for n in range(0, total_images-1):\n",
    "    for m in range(n+1, total_images):\n",
    "        feature = np.array(feature_matrix[n,m]).reshape(-1,7)\n",
    "        matched_pairs = feature[:,3:7]\n",
    "        # print(matched_pairs)\n",
    "        showMatches(images[n], images[m], matched_pairs, (0, 255, 0), \"Results/\" + str(n) + str(m) + \".jpg\")\n",
    "\n",
    "filtered_feature_matrix = np.empty(shape=(total_images, total_images), dtype=object)\n",
    "f_matrix = np.empty(shape=(total_images, total_images), dtype=object)\n",
    "e_matrix = np.empty(shape=(total_images, total_images), dtype=object)\n",
    "p_matrix = np.empty(shape=(total_images, total_images), dtype=object)\n",
    "\n",
    "for i in range(total_images):\n",
    "    for j in range(total_images):\n",
    "        filtered_feature_matrix[i,j] = None\n",
    "        f_matrix[i, j] = None\n",
    "        e_matrix[i, j] = None\n",
    "        p_matrix[i, j] = None\n",
    "\n",
    "for n in range(0, total_images-1):\n",
    "    for m in range(n+1, total_images):\n",
    "        # print(feature_matrix[n, m])\n",
    "        if feature_matrix[n, m] is not None:\n",
    "            print(n, m)\n",
    "            features = np.array(feature_matrix[n, m]).reshape(-1,7)\n",
    "            f = EstimateFundamentalMatrix(features)\n",
    "            if f is not None:\n",
    "                f_better, filtered_features = getInliers(features)\n",
    "                filtered_feature_matrix[n, m] = filtered_features\n",
    "                f_matrix[n, m] = f\n",
    "# \n"
   ]
  },
  {
   "cell_type": "code",
   "execution_count": 6,
   "metadata": {},
   "outputs": [],
   "source": [
    "for n in range(0, total_images):\n",
    "    for m in range(0, total_images):\n",
    "        if f_matrix[n, m] is not None:\n",
    "            e_matrix[n, m] = getEssentialMatrix(K, f_matrix[n, m])\n",
    "\n",
    "for n in range(0, total_images):\n",
    "    for m in range(0, total_images):\n",
    "        if e_matrix[n, m] is not None:\n",
    "            p_matrix[n, m] = ExtractCameraPose(e_matrix[n, m])"
   ]
  },
  {
   "cell_type": "code",
   "execution_count": 4,
   "metadata": {},
   "outputs": [],
   "source": [
    "# for n in range(0, total_images-1):\n",
    "#     for m in range(n+1, total_images):\n",
    "\n",
    "#         if feature_matrix[n,m] is not None:\n",
    "#             feature = np.array(feature_matrix[n,m]).reshape(-1,7)\n",
    "#             matched_pairs = feature[:,3:7]\n",
    "#         else:\n",
    "#             matched_pairs = None\n",
    "\n",
    "#         if filtered_feature_matrix[n,m] is not None:\n",
    "#             filtered_feature = np.array(filtered_feature_matrix[n,m]).reshape(-1,7)\n",
    "#             filtered_matched_pairs = filtered_feature[:,3:7]\n",
    "#         else:\n",
    "#             filtered_matched_pairs = None\n",
    "\n",
    "#         showMatches(images[n], images[m], matched_pairs, (0, 255, 0), None)\n",
    "#         showMatches(images[n], images[m], filtered_matched_pairs, (0, 0, 255), \"../Results/\" + str(n) + str(m) + \".jpg\")\n"
   ]
  },
  {
   "cell_type": "code",
   "execution_count": 7,
   "metadata": {},
   "outputs": [],
   "source": [
    "# for n in range(0, total_images):\n",
    "#     for m in range(0, total_images):\n",
    "#         if e_matrix[n, m] is not None:\n",
    "#             p_matrix[n, m] = ExtractCameraPose(e_matrix[n, m])"
   ]
  },
  {
   "cell_type": "code",
   "execution_count": 5,
   "metadata": {},
   "outputs": [],
   "source": [
    "def ExtractCameraPose(E):\n",
    "\n",
    "    W = np.array([[0,-1,0],[1,0,0],[0,0,-1]])\n",
    "    Z = np.array([[0,1,0],[-1,0,0],[0,0,0]])\n",
    "\n",
    "    U,S,VT = np.linalg.svd(E)\n",
    "    S = np.dot(U, np.dot(Z, U.T))\n",
    "    R1 = np.dot(U, np.dot(W, VT))\n",
    "    R2 = np.dot(U, np.dot(W.T, VT))\n",
    "\n",
    "    t = np.array([-S[1,2],S[0,2],-S[0,1]]).reshape(3,1)\n",
    "    \n",
    "    P1 = np.hstack((R1, t))\n",
    "    P2 = np.hstack((R1, -t))\n",
    "    P3 = np.hstack((R2, t))\n",
    "    P4 = np.hstack((R2, -t))\n",
    "    return [P1, P2, P3, P4]\n",
    " \n"
   ]
  },
  {
   "cell_type": "code",
   "execution_count": 7,
   "metadata": {},
   "outputs": [],
   "source": [
    "def cross_1Dx4D(x,P):\n",
    "    \"\"\"\n",
    "    to find cross product between a 1D vector and 4D projection matrix\n",
    "    \"\"\"\n",
    "    x_3x3 = np.array([[0, -x[2], x[1]],\n",
    "                      [x[2], 0, -x[0]],\n",
    "                      [-x[1], x[0], 0]])\n",
    "    return x_3x3 @ P"
   ]
  },
  {
   "cell_type": "code",
   "execution_count": 14,
   "metadata": {},
   "outputs": [],
   "source": [
    "P = np.eye(3,4)\n",
    "P_dash_4 = p_matrix[0,1]\n",
    "matched_pairs = filtered_feature_matrix[0,1]\n",
    "\n",
    "pts3D_4 = []\n",
    "for P_dash in P_dash_4:\n",
    "    pts3D = []\n",
    "    for i in range(matched_pairs.shape[0]):\n",
    "\n",
    "        matched_pair = matched_pairs[i]\n",
    "\n",
    "        p1T = P[0,:].reshape(1,4)\n",
    "        p2T = P[1,:].reshape(1,4)\n",
    "        p3T = P[2,:].reshape(1,4)\n",
    "\n",
    "        p_dash_1T = P_dash[0,:].reshape(1,4)\n",
    "        p_dash_2T = P_dash[1,:].reshape(1,4)\n",
    "        p_dash_3T = P_dash[2,:].reshape(1,4)\n",
    "\n",
    "        x = matched_pair[3]\n",
    "        y = matched_pair[4]\n",
    "        x_dash = matched_pair[5]\n",
    "        y_dash = matched_pair[6]\n",
    "\n",
    "        A = []\n",
    "        A.append((y * p3T) -  p2T)\n",
    "        A.append(p1T -  (x * p3T))\n",
    "        A.append((y_dash * p_dash_3T) -  p_dash_2T)\n",
    "        A.append(p_dash_1T -  (x_dash * p_dash_3T))\n",
    "\n",
    "        A = np.array(A)\n",
    "        A = A.reshape(4,4)\n",
    "\n",
    "        _,_,VT = np.linalg.svd(A)\n",
    "        X = VT[-1]\n",
    "        X = X/X[-1]\n",
    "        pts3D.append(X[:3]) \n",
    "    pts3D_4.append(np.array(pts3D))\n",
    "# return pts3D_4\n"
   ]
  },
  {
   "cell_type": "code",
   "execution_count": 15,
   "metadata": {},
   "outputs": [],
   "source": [
    "from matplotlib import pyplot as plt"
   ]
  },
  {
   "cell_type": "code",
   "execution_count": 16,
   "metadata": {},
   "outputs": [
    {
     "output_type": "stream",
     "name": "stdout",
     "text": [
      "(147, 3)\n(147, 3)\n(147, 3)\n(147, 3)\n"
     ]
    },
    {
     "output_type": "display_data",
     "data": {
      "text/plain": "<Figure size 432x288 with 1 Axes>",
      "image/svg+xml": "<?xml version=\"1.0\" encoding=\"utf-8\" standalone=\"no\"?>\n<!DOCTYPE svg PUBLIC \"-//W3C//DTD SVG 1.1//EN\"\n  \"http://www.w3.org/Graphics/SVG/1.1/DTD/svg11.dtd\">\n<!-- Created with matplotlib (https://matplotlib.org/) -->\n<svg height=\"248.518125pt\" version=\"1.1\" viewBox=\"0 0 390.029687 248.518125\" width=\"390.029687pt\" xmlns=\"http://www.w3.org/2000/svg\" xmlns:xlink=\"http://www.w3.org/1999/xlink\">\n <metadata>\n  <rdf:RDF xmlns:cc=\"http://creativecommons.org/ns#\" xmlns:dc=\"http://purl.org/dc/elements/1.1/\" xmlns:rdf=\"http://www.w3.org/1999/02/22-rdf-syntax-ns#\">\n   <cc:Work>\n    <dc:type rdf:resource=\"http://purl.org/dc/dcmitype/StillImage\"/>\n    <dc:date>2021-04-10T17:21:00.542420</dc:date>\n    <dc:format>image/svg+xml</dc:format>\n    <dc:creator>\n     <cc:Agent>\n      <dc:title>Matplotlib v3.3.4, https://matplotlib.org/</dc:title>\n     </cc:Agent>\n    </dc:creator>\n   </cc:Work>\n  </rdf:RDF>\n </metadata>\n <defs>\n  <style type=\"text/css\">*{stroke-linecap:butt;stroke-linejoin:round;}</style>\n </defs>\n <g id=\"figure_1\">\n  <g id=\"patch_1\">\n   <path d=\"M 0 248.518125 \nL 390.029687 248.518125 \nL 390.029687 0 \nL 0 0 \nz\n\" style=\"fill:none;\"/>\n  </g>\n  <g id=\"axes_1\">\n   <g id=\"patch_2\">\n    <path d=\"M 48.029688 224.64 \nL 382.829688 224.64 \nL 382.829688 7.2 \nL 48.029688 7.2 \nz\n\" style=\"fill:#ffffff;\"/>\n   </g>\n   <g id=\"matplotlib.axis_1\">\n    <g id=\"xtick_1\">\n     <g id=\"line2d_1\">\n      <defs>\n       <path d=\"M 0 0 \nL 0 3.5 \n\" id=\"mb98b5c419f\" style=\"stroke:#000000;stroke-width:0.8;\"/>\n      </defs>\n      <g>\n       <use style=\"stroke:#000000;stroke-width:0.8;\" x=\"72.041847\" xlink:href=\"#mb98b5c419f\" y=\"224.64\"/>\n      </g>\n     </g>\n     <g id=\"text_1\">\n      <!-- −1000 -->\n      <g transform=\"translate(55.127003 239.238437)scale(0.1 -0.1)\">\n       <defs>\n        <path d=\"M 10.59375 35.5 \nL 73.1875 35.5 \nL 73.1875 27.203125 \nL 10.59375 27.203125 \nz\n\" id=\"DejaVuSans-8722\"/>\n        <path d=\"M 12.40625 8.296875 \nL 28.515625 8.296875 \nL 28.515625 63.921875 \nL 10.984375 60.40625 \nL 10.984375 69.390625 \nL 28.421875 72.90625 \nL 38.28125 72.90625 \nL 38.28125 8.296875 \nL 54.390625 8.296875 \nL 54.390625 0 \nL 12.40625 0 \nz\n\" id=\"DejaVuSans-49\"/>\n        <path d=\"M 31.78125 66.40625 \nQ 24.171875 66.40625 20.328125 58.90625 \nQ 16.5 51.421875 16.5 36.375 \nQ 16.5 21.390625 20.328125 13.890625 \nQ 24.171875 6.390625 31.78125 6.390625 \nQ 39.453125 6.390625 43.28125 13.890625 \nQ 47.125 21.390625 47.125 36.375 \nQ 47.125 51.421875 43.28125 58.90625 \nQ 39.453125 66.40625 31.78125 66.40625 \nz\nM 31.78125 74.21875 \nQ 44.046875 74.21875 50.515625 64.515625 \nQ 56.984375 54.828125 56.984375 36.375 \nQ 56.984375 17.96875 50.515625 8.265625 \nQ 44.046875 -1.421875 31.78125 -1.421875 \nQ 19.53125 -1.421875 13.0625 8.265625 \nQ 6.59375 17.96875 6.59375 36.375 \nQ 6.59375 54.828125 13.0625 64.515625 \nQ 19.53125 74.21875 31.78125 74.21875 \nz\n\" id=\"DejaVuSans-48\"/>\n       </defs>\n       <use xlink:href=\"#DejaVuSans-8722\"/>\n       <use x=\"83.789062\" xlink:href=\"#DejaVuSans-49\"/>\n       <use x=\"147.412109\" xlink:href=\"#DejaVuSans-48\"/>\n       <use x=\"211.035156\" xlink:href=\"#DejaVuSans-48\"/>\n       <use x=\"274.658203\" xlink:href=\"#DejaVuSans-48\"/>\n      </g>\n     </g>\n    </g>\n    <g id=\"xtick_2\">\n     <g id=\"line2d_2\">\n      <g>\n       <use style=\"stroke:#000000;stroke-width:0.8;\" x=\"143.735767\" xlink:href=\"#mb98b5c419f\" y=\"224.64\"/>\n      </g>\n     </g>\n     <g id=\"text_2\">\n      <!-- −500 -->\n      <g transform=\"translate(130.002174 239.238437)scale(0.1 -0.1)\">\n       <defs>\n        <path d=\"M 10.796875 72.90625 \nL 49.515625 72.90625 \nL 49.515625 64.59375 \nL 19.828125 64.59375 \nL 19.828125 46.734375 \nQ 21.96875 47.46875 24.109375 47.828125 \nQ 26.265625 48.1875 28.421875 48.1875 \nQ 40.625 48.1875 47.75 41.5 \nQ 54.890625 34.8125 54.890625 23.390625 \nQ 54.890625 11.625 47.5625 5.09375 \nQ 40.234375 -1.421875 26.90625 -1.421875 \nQ 22.3125 -1.421875 17.546875 -0.640625 \nQ 12.796875 0.140625 7.71875 1.703125 \nL 7.71875 11.625 \nQ 12.109375 9.234375 16.796875 8.0625 \nQ 21.484375 6.890625 26.703125 6.890625 \nQ 35.15625 6.890625 40.078125 11.328125 \nQ 45.015625 15.765625 45.015625 23.390625 \nQ 45.015625 31 40.078125 35.4375 \nQ 35.15625 39.890625 26.703125 39.890625 \nQ 22.75 39.890625 18.8125 39.015625 \nQ 14.890625 38.140625 10.796875 36.28125 \nz\n\" id=\"DejaVuSans-53\"/>\n       </defs>\n       <use xlink:href=\"#DejaVuSans-8722\"/>\n       <use x=\"83.789062\" xlink:href=\"#DejaVuSans-53\"/>\n       <use x=\"147.412109\" xlink:href=\"#DejaVuSans-48\"/>\n       <use x=\"211.035156\" xlink:href=\"#DejaVuSans-48\"/>\n      </g>\n     </g>\n    </g>\n    <g id=\"xtick_3\">\n     <g id=\"line2d_3\">\n      <g>\n       <use style=\"stroke:#000000;stroke-width:0.8;\" x=\"215.429688\" xlink:href=\"#mb98b5c419f\" y=\"224.64\"/>\n      </g>\n     </g>\n     <g id=\"text_3\">\n      <!-- 0 -->\n      <g transform=\"translate(212.248437 239.238437)scale(0.1 -0.1)\">\n       <use xlink:href=\"#DejaVuSans-48\"/>\n      </g>\n     </g>\n    </g>\n    <g id=\"xtick_4\">\n     <g id=\"line2d_4\">\n      <g>\n       <use style=\"stroke:#000000;stroke-width:0.8;\" x=\"287.123608\" xlink:href=\"#mb98b5c419f\" y=\"224.64\"/>\n      </g>\n     </g>\n     <g id=\"text_4\">\n      <!-- 500 -->\n      <g transform=\"translate(277.579858 239.238437)scale(0.1 -0.1)\">\n       <use xlink:href=\"#DejaVuSans-53\"/>\n       <use x=\"63.623047\" xlink:href=\"#DejaVuSans-48\"/>\n       <use x=\"127.246094\" xlink:href=\"#DejaVuSans-48\"/>\n      </g>\n     </g>\n    </g>\n    <g id=\"xtick_5\">\n     <g id=\"line2d_5\">\n      <g>\n       <use style=\"stroke:#000000;stroke-width:0.8;\" x=\"358.817528\" xlink:href=\"#mb98b5c419f\" y=\"224.64\"/>\n      </g>\n     </g>\n     <g id=\"text_5\">\n      <!-- 1000 -->\n      <g transform=\"translate(346.092528 239.238437)scale(0.1 -0.1)\">\n       <use xlink:href=\"#DejaVuSans-49\"/>\n       <use x=\"63.623047\" xlink:href=\"#DejaVuSans-48\"/>\n       <use x=\"127.246094\" xlink:href=\"#DejaVuSans-48\"/>\n       <use x=\"190.869141\" xlink:href=\"#DejaVuSans-48\"/>\n      </g>\n     </g>\n    </g>\n   </g>\n   <g id=\"matplotlib.axis_2\">\n    <g id=\"ytick_1\">\n     <g id=\"line2d_6\">\n      <defs>\n       <path d=\"M 0 0 \nL -3.5 0 \n\" id=\"mee302470b6\" style=\"stroke:#000000;stroke-width:0.8;\"/>\n      </defs>\n      <g>\n       <use style=\"stroke:#000000;stroke-width:0.8;\" x=\"48.029688\" xlink:href=\"#mee302470b6\" y=\"217.763497\"/>\n      </g>\n     </g>\n     <g id=\"text_6\">\n      <!-- −1500 -->\n      <g transform=\"translate(7.2 221.562716)scale(0.1 -0.1)\">\n       <use xlink:href=\"#DejaVuSans-8722\"/>\n       <use x=\"83.789062\" xlink:href=\"#DejaVuSans-49\"/>\n       <use x=\"147.412109\" xlink:href=\"#DejaVuSans-53\"/>\n       <use x=\"211.035156\" xlink:href=\"#DejaVuSans-48\"/>\n       <use x=\"274.658203\" xlink:href=\"#DejaVuSans-48\"/>\n      </g>\n     </g>\n    </g>\n    <g id=\"ytick_2\">\n     <g id=\"line2d_7\">\n      <g>\n       <use style=\"stroke:#000000;stroke-width:0.8;\" x=\"48.029688\" xlink:href=\"#mee302470b6\" y=\"183.815665\"/>\n      </g>\n     </g>\n     <g id=\"text_7\">\n      <!-- −1000 -->\n      <g transform=\"translate(7.2 187.614883)scale(0.1 -0.1)\">\n       <use xlink:href=\"#DejaVuSans-8722\"/>\n       <use x=\"83.789062\" xlink:href=\"#DejaVuSans-49\"/>\n       <use x=\"147.412109\" xlink:href=\"#DejaVuSans-48\"/>\n       <use x=\"211.035156\" xlink:href=\"#DejaVuSans-48\"/>\n       <use x=\"274.658203\" xlink:href=\"#DejaVuSans-48\"/>\n      </g>\n     </g>\n    </g>\n    <g id=\"ytick_3\">\n     <g id=\"line2d_8\">\n      <g>\n       <use style=\"stroke:#000000;stroke-width:0.8;\" x=\"48.029688\" xlink:href=\"#mee302470b6\" y=\"149.867832\"/>\n      </g>\n     </g>\n     <g id=\"text_8\">\n      <!-- −500 -->\n      <g transform=\"translate(13.5625 153.667051)scale(0.1 -0.1)\">\n       <use xlink:href=\"#DejaVuSans-8722\"/>\n       <use x=\"83.789062\" xlink:href=\"#DejaVuSans-53\"/>\n       <use x=\"147.412109\" xlink:href=\"#DejaVuSans-48\"/>\n       <use x=\"211.035156\" xlink:href=\"#DejaVuSans-48\"/>\n      </g>\n     </g>\n    </g>\n    <g id=\"ytick_4\">\n     <g id=\"line2d_9\">\n      <g>\n       <use style=\"stroke:#000000;stroke-width:0.8;\" x=\"48.029688\" xlink:href=\"#mee302470b6\" y=\"115.92\"/>\n      </g>\n     </g>\n     <g id=\"text_9\">\n      <!-- 0 -->\n      <g transform=\"translate(34.667187 119.719219)scale(0.1 -0.1)\">\n       <use xlink:href=\"#DejaVuSans-48\"/>\n      </g>\n     </g>\n    </g>\n    <g id=\"ytick_5\">\n     <g id=\"line2d_10\">\n      <g>\n       <use style=\"stroke:#000000;stroke-width:0.8;\" x=\"48.029688\" xlink:href=\"#mee302470b6\" y=\"81.972168\"/>\n      </g>\n     </g>\n     <g id=\"text_10\">\n      <!-- 500 -->\n      <g transform=\"translate(21.942187 85.771386)scale(0.1 -0.1)\">\n       <use xlink:href=\"#DejaVuSans-53\"/>\n       <use x=\"63.623047\" xlink:href=\"#DejaVuSans-48\"/>\n       <use x=\"127.246094\" xlink:href=\"#DejaVuSans-48\"/>\n      </g>\n     </g>\n    </g>\n    <g id=\"ytick_6\">\n     <g id=\"line2d_11\">\n      <g>\n       <use style=\"stroke:#000000;stroke-width:0.8;\" x=\"48.029688\" xlink:href=\"#mee302470b6\" y=\"48.024335\"/>\n      </g>\n     </g>\n     <g id=\"text_11\">\n      <!-- 1000 -->\n      <g transform=\"translate(15.579687 51.823554)scale(0.1 -0.1)\">\n       <use xlink:href=\"#DejaVuSans-49\"/>\n       <use x=\"63.623047\" xlink:href=\"#DejaVuSans-48\"/>\n       <use x=\"127.246094\" xlink:href=\"#DejaVuSans-48\"/>\n       <use x=\"190.869141\" xlink:href=\"#DejaVuSans-48\"/>\n      </g>\n     </g>\n    </g>\n    <g id=\"ytick_7\">\n     <g id=\"line2d_12\">\n      <g>\n       <use style=\"stroke:#000000;stroke-width:0.8;\" x=\"48.029688\" xlink:href=\"#mee302470b6\" y=\"14.076503\"/>\n      </g>\n     </g>\n     <g id=\"text_12\">\n      <!-- 1500 -->\n      <g transform=\"translate(15.579687 17.875722)scale(0.1 -0.1)\">\n       <use xlink:href=\"#DejaVuSans-49\"/>\n       <use x=\"63.623047\" xlink:href=\"#DejaVuSans-53\"/>\n       <use x=\"127.246094\" xlink:href=\"#DejaVuSans-48\"/>\n       <use x=\"190.869141\" xlink:href=\"#DejaVuSans-48\"/>\n      </g>\n     </g>\n    </g>\n   </g>\n   <g id=\"line2d_13\">\n    <path clip-path=\"url(#p1dff291be0)\" d=\"M 216.064936 115.801931 \nL 218.593038 114.165224 \nL 63.247869 214.756364 \nL 215.941427 115.882002 \n\" style=\"fill:none;stroke:#1f77b4;stroke-linecap:square;stroke-width:1.5;\"/>\n   </g>\n   <g id=\"line2d_14\">\n    <path clip-path=\"url(#p1dff291be0)\" d=\"M 214.794439 116.038069 \nL 212.266337 117.674776 \nL 367.611506 17.083636 \nL 214.917948 115.957998 \n\" style=\"fill:none;stroke:#ff7f0e;stroke-linecap:square;stroke-width:1.5;\"/>\n   </g>\n   <g id=\"line2d_15\">\n    <path clip-path=\"url(#p1dff291be0)\" d=\"M 215.333173 115.937936 \nL 215.352693 115.971906 \nL 215.326223 115.925908 \nL 215.327241 115.927695 \n\" style=\"fill:none;stroke:#2ca02c;stroke-linecap:square;stroke-width:1.5;\"/>\n   </g>\n   <g id=\"line2d_16\">\n    <path clip-path=\"url(#p1dff291be0)\" d=\"M 215.526202 115.902064 \nL 215.506682 115.868094 \nL 215.533152 115.914092 \nL 215.532134 115.912305 \n\" style=\"fill:none;stroke:#d62728;stroke-linecap:square;stroke-width:1.5;\"/>\n   </g>\n   <g id=\"patch_3\">\n    <path d=\"M 48.029688 224.64 \nL 48.029688 7.2 \n\" style=\"fill:none;stroke:#000000;stroke-linecap:square;stroke-linejoin:miter;stroke-width:0.8;\"/>\n   </g>\n   <g id=\"patch_4\">\n    <path d=\"M 382.829688 224.64 \nL 382.829688 7.2 \n\" style=\"fill:none;stroke:#000000;stroke-linecap:square;stroke-linejoin:miter;stroke-width:0.8;\"/>\n   </g>\n   <g id=\"patch_5\">\n    <path d=\"M 48.029687 224.64 \nL 382.829688 224.64 \n\" style=\"fill:none;stroke:#000000;stroke-linecap:square;stroke-linejoin:miter;stroke-width:0.8;\"/>\n   </g>\n   <g id=\"patch_6\">\n    <path d=\"M 48.029687 7.2 \nL 382.829688 7.2 \n\" style=\"fill:none;stroke:#000000;stroke-linecap:square;stroke-linejoin:miter;stroke-width:0.8;\"/>\n   </g>\n  </g>\n </g>\n <defs>\n  <clipPath id=\"p1dff291be0\">\n   <rect height=\"217.44\" width=\"334.8\" x=\"48.029688\" y=\"7.2\"/>\n  </clipPath>\n </defs>\n</svg>\n",
      "image/png": "[encoded data removed]"
     },
     "metadata": {
      "needs_background": "light"
     }
    }
   ],
   "source": [
    "for pts3D in pts3D_4:\n",
    "    print(pts3D.shape)\n",
    "    x = pts3D[:,0]\n",
    "    y = pts3D[:,1]\n",
    "    plt.plot(x, y)"
   ]
  },
  {
   "cell_type": "code",
   "execution_count": 8,
   "metadata": {},
   "outputs": [
    {
     "output_type": "execute_result",
     "data": {
      "text/plain": [
       "(array([[-0.01436469, -0.67238415, -0.25949168],\n",
       "        [ 0.84380403, -0.06920706,  0.51278222],\n",
       "        [ 0.15586874, -0.67339079, -0.15121706]]),\n",
       " array([[ 0.01436469,  0.67238415,  0.25949168],\n",
       "        [-0.84380403,  0.06920706, -0.51278222],\n",
       "        [-0.15586874,  0.67339079,  0.15121706]]))"
      ]
     },
     "metadata": {},
     "execution_count": 8
    }
   ],
   "source": [
    "np.dot(S, R2), E"
   ]
  },
  {
   "cell_type": "code",
   "execution_count": 9,
   "metadata": {},
   "outputs": [
    {
     "output_type": "execute_result",
     "data": {
      "text/plain": [
       "(0.693078125191146, 0.14233599623355478, -0.7066704865478167)"
      ]
     },
     "metadata": {},
     "execution_count": 9
    }
   ],
   "source": [
    "-S[1,2],S[0,2],-S[0,1]"
   ]
  },
  {
   "cell_type": "code",
   "execution_count": 11,
   "metadata": {},
   "outputs": [
    {
     "output_type": "execute_result",
     "data": {
      "text/plain": [
       "array([-0.69307813, -0.142336  ,  0.70667049])"
      ]
     },
     "metadata": {},
     "execution_count": 11
    }
   ],
   "source": [
    "U[:,2]"
   ]
  },
  {
   "cell_type": "code",
   "execution_count": 12,
   "metadata": {},
   "outputs": [],
   "source": [
    "t = np.array([-S[1,2],S[0,2],-S[0,1]]).reshape(3,1)"
   ]
  },
  {
   "cell_type": "code",
   "execution_count": 16,
   "metadata": {},
   "outputs": [],
   "source": [
    "P = np.hstack((R1, t))"
   ]
  },
  {
   "cell_type": "code",
   "execution_count": 17,
   "metadata": {},
   "outputs": [
    {
     "output_type": "execute_result",
     "data": {
      "text/plain": [
       "(3, 4)"
      ]
     },
     "metadata": {},
     "execution_count": 17
    }
   ],
   "source": [
    "P.shape"
   ]
  },
  {
   "cell_type": "code",
   "execution_count": null,
   "metadata": {},
   "outputs": [],
   "source": []
  }
 ]
}