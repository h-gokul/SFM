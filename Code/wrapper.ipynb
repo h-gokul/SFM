{
 "metadata": {
  "language_info": {
   "codemirror_mode": {
    "name": "ipython",
    "version": 3
   },
   "file_extension": ".py",
   "mimetype": "text/x-python",
   "name": "python",
   "nbconvert_exporter": "python",
   "pygments_lexer": "ipython3",
   "version": "3.6.9-final"
  },
  "orig_nbformat": 2,
  "kernelspec": {
   "name": "python369jvsc74a57bd031f2aee4e71d21fbe5cf8b01ff0e069b9275f58929596ceb00d14d90e3e16cd6",
   "display_name": "Python 3.6.9 64-bit"
  },
  "metadata": {
   "interpreter": {
    "hash": "31f2aee4e71d21fbe5cf8b01ff0e069b9275f58929596ceb00d14d90e3e16cd6"
   }
  }
 },
 "nbformat": 4,
 "nbformat_minor": 2,
 "cells": [
  {
   "cell_type": "code",
   "execution_count": 1,
   "metadata": {},
   "outputs": [],
   "source": [
    "import numpy as np\n",
    "import cv2\n",
    "from EstimateFundamentalMatrix import *\n",
    "from GetInliersRANSAC import *\n",
    "from EssentialMatrixFromFundamentalMatrix import *\n",
    "\n",
    "from Utils.ImageUtils import *\n",
    "from Utils.DataLoader import *"
   ]
  },
  {
   "cell_type": "code",
   "execution_count": 4,
   "metadata": {},
   "outputs": [],
   "source": [
    "K = np.array([[568.996140852, 0, 643.21055941],[0, 568.988362396, 477.982801038],[0, 0, 1]]).reshape(3,3)"
   ]
  },
  {
   "cell_type": "code",
   "execution_count": 3,
   "metadata": {
    "tags": []
   },
   "outputs": [
    {
     "output_type": "stream",
     "name": "stdout",
     "text": [
      "Reading images from  /home/sakshi/courses/CMSC733/sakshi_project3/Data/\n",
      "0 1\n",
      "0 2\n",
      "0 3\n",
      "0 4\n",
      "0 5\n",
      "1 2\n",
      "1 3\n",
      "1 4\n",
      "1 5\n",
      "2 3\n",
      "2 4\n",
      "2 5\n",
      "3 4\n",
      "3 5\n",
      "4 5\n"
     ]
    }
   ],
   "source": [
    "folder_name = \"/home/sakshi/courses/CMSC733/sakshi_project3/Data/\"\n",
    "total_images = 6\n",
    "images = readImageSet(folder_name, total_images)\n",
    "feature_matrix = extractMatchingFeaturesFromFile(folder_name, total_images)\n",
    "for n in range(0, total_images-1):\n",
    "    for m in range(n+1, total_images):\n",
    "        feature = np.array(feature_matrix[n,m]).reshape(-1,7)\n",
    "        matched_pairs = feature[:,3:7]\n",
    "        # print(matched_pairs)\n",
    "        showMatches(images[n], images[m], matched_pairs, (0, 255, 0), \"Results/\" + str(n) + str(m) + \".jpg\")\n",
    "\n",
    "filtered_feature_matrix = np.empty(shape=(total_images, total_images), dtype=object)\n",
    "f_matrix = np.empty(shape=(total_images, total_images), dtype=object)\n",
    "e_matrix = np.empty(shape=(total_images, total_images), dtype=object)\n",
    "\n",
    "for i in range(total_images):\n",
    "    for j in range(total_images):\n",
    "        filtered_feature_matrix[i,j] = None\n",
    "        f_matrix[i, j] = None\n",
    "        e_matrix[i, j] = None\n",
    "\n",
    "for n in range(0, total_images-1):\n",
    "    for m in range(n+1, total_images):\n",
    "        # print(feature_matrix[n, m])\n",
    "        if feature_matrix[n, m] is not None:\n",
    "            print(n, m)\n",
    "            features = np.array(feature_matrix[n, m]).reshape(-1,7)\n",
    "            f = EstimateFundamentalMatrix(features)\n",
    "            if f is not None:\n",
    "                f_better, filtered_features = getInliers(features)\n",
    "                filtered_feature_matrix[n, m] = filtered_features\n",
    "                f_matrix[n, m] = f\n",
    "# \n"
   ]
  },
  {
   "cell_type": "code",
   "execution_count": 5,
   "metadata": {},
   "outputs": [
    {
     "output_type": "error",
     "ename": "NameError",
     "evalue": "name 'getEssentialMatrix' is not defined",
     "traceback": [
      "\u001b[0;31m---------------------------------------------------------------------------\u001b[0m",
      "\u001b[0;31mNameError\u001b[0m                                 Traceback (most recent call last)",
      "\u001b[0;32m<ipython-input-5-908f9040aece>\u001b[0m in \u001b[0;36m<module>\u001b[0;34m\u001b[0m\n\u001b[1;32m      2\u001b[0m     \u001b[0;32mfor\u001b[0m \u001b[0mm\u001b[0m \u001b[0;32min\u001b[0m \u001b[0mrange\u001b[0m\u001b[0;34m(\u001b[0m\u001b[0;36m0\u001b[0m\u001b[0;34m,\u001b[0m \u001b[0mtotal_images\u001b[0m\u001b[0;34m)\u001b[0m\u001b[0;34m:\u001b[0m\u001b[0;34m\u001b[0m\u001b[0;34m\u001b[0m\u001b[0m\n\u001b[1;32m      3\u001b[0m         \u001b[0;32mif\u001b[0m \u001b[0mf_matrix\u001b[0m\u001b[0;34m[\u001b[0m\u001b[0mn\u001b[0m\u001b[0;34m,\u001b[0m \u001b[0mm\u001b[0m\u001b[0;34m]\u001b[0m \u001b[0;32mis\u001b[0m \u001b[0;32mnot\u001b[0m \u001b[0;32mNone\u001b[0m\u001b[0;34m:\u001b[0m\u001b[0;34m\u001b[0m\u001b[0;34m\u001b[0m\u001b[0m\n\u001b[0;32m----> 4\u001b[0;31m             \u001b[0me_matrix\u001b[0m\u001b[0;34m[\u001b[0m\u001b[0mn\u001b[0m\u001b[0;34m,\u001b[0m \u001b[0mm\u001b[0m\u001b[0;34m]\u001b[0m \u001b[0;34m=\u001b[0m \u001b[0mgetEssentialMatrix\u001b[0m\u001b[0;34m(\u001b[0m\u001b[0mK\u001b[0m\u001b[0;34m,\u001b[0m \u001b[0mf_matrix\u001b[0m\u001b[0;34m[\u001b[0m\u001b[0mn\u001b[0m\u001b[0;34m,\u001b[0m \u001b[0mm\u001b[0m\u001b[0;34m]\u001b[0m\u001b[0;34m)\u001b[0m\u001b[0;34m\u001b[0m\u001b[0;34m\u001b[0m\u001b[0m\n\u001b[0m",
      "\u001b[0;31mNameError\u001b[0m: name 'getEssentialMatrix' is not defined"
     ]
    }
   ],
   "source": [
    "for n in range(0, total_images):\n",
    "    for m in range(0, total_images):\n",
    "        if f_matrix[n, m] is not None:\n",
    "            e_matrix[n, m] = getEssentialMatrix(K, f_matrix[n, m])"
   ]
  },
  {
   "cell_type": "code",
   "execution_count": 4,
   "metadata": {},
   "outputs": [],
   "source": [
    "for n in range(0, total_images-1):\n",
    "    for m in range(n+1, total_images):\n",
    "\n",
    "        if feature_matrix[n,m] is not None:\n",
    "            feature = np.array(feature_matrix[n,m]).reshape(-1,7)\n",
    "            matched_pairs = feature[:,3:7]\n",
    "        else:\n",
    "            matched_pairs = None\n",
    "\n",
    "        if filtered_feature_matrix[n,m] is not None:\n",
    "            filtered_feature = np.array(filtered_feature_matrix[n,m]).reshape(-1,7)\n",
    "            filtered_matched_pairs = filtered_feature[:,3:7]\n",
    "        else:\n",
    "            filtered_matched_pairs = None\n",
    "\n",
    "        showMatches(images[n], images[m], matched_pairs, (0, 255, 0), None)\n",
    "        showMatches(images[n], images[m], filtered_matched_pairs, (0, 0, 255), \"../Results/\" + str(n) + str(m) + \".jpg\")\n"
   ]
  },
  {
   "cell_type": "code",
   "execution_count": null,
   "metadata": {},
   "outputs": [],
   "source": []
  }
 ]
}